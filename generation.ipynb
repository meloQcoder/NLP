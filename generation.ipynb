{
 "cells": [
  {
   "cell_type": "markdown",
   "metadata": {},
   "source": [
    "Text Generation"
   ]
  },
  {
   "cell_type": "code",
   "execution_count": 2,
   "metadata": {},
   "outputs": [],
   "source": [
    "import pandas as pd\n",
    "from bs4 import BeautifulSoup\n",
    "from tqdm import tqdm\n",
    "tqdm.pandas()\n",
    "import numpy as numpy\n",
    "import nltk\n",
    "from nltk.tokenize import sent_tokenize\n",
    "from nltk import tokenize\n",
    "\n",
    "import matplotlib.pyplot as pyplot\n"
   ]
  },
  {
   "cell_type": "code",
   "execution_count": 3,
   "metadata": {},
   "outputs": [
    {
     "data": {
      "text/html": [
       "<div>\n",
       "<style scoped>\n",
       "    .dataframe tbody tr th:only-of-type {\n",
       "        vertical-align: middle;\n",
       "    }\n",
       "\n",
       "    .dataframe tbody tr th {\n",
       "        vertical-align: top;\n",
       "    }\n",
       "\n",
       "    .dataframe thead th {\n",
       "        text-align: right;\n",
       "    }\n",
       "</style>\n",
       "<table border=\"1\" class=\"dataframe\">\n",
       "  <thead>\n",
       "    <tr style=\"text-align: right;\">\n",
       "      <th></th>\n",
       "      <th>JobRefNo</th>\n",
       "      <th>DigerPozisyon</th>\n",
       "      <th>Qualifications</th>\n",
       "      <th>Classification</th>\n",
       "    </tr>\n",
       "  </thead>\n",
       "  <tbody>\n",
       "    <tr>\n",
       "      <th>0</th>\n",
       "      <td>3464108</td>\n",
       "      <td>Bilgisayar Mühendisi</td>\n",
       "      <td>&lt;p&gt;3464105346410534641053464105346410534641053...</td>\n",
       "      <td>Bilgi Teknolojileri</td>\n",
       "    </tr>\n",
       "    <tr>\n",
       "      <th>1</th>\n",
       "      <td>3464068</td>\n",
       "      <td>Yazılım Geliştirme Elemanı</td>\n",
       "      <td>&lt;p&gt;sskjdkjsdksajl sksakjdlkajdladl dskjlksjlks...</td>\n",
       "      <td>Bilgi Teknolojileri</td>\n",
       "    </tr>\n",
       "    <tr>\n",
       "      <th>2</th>\n",
       "      <td>3464018</td>\n",
       "      <td>Grafik Tasarımcı</td>\n",
       "      <td>&lt;p&gt;Şartlar&lt;/p&gt;&lt;p&gt;08.30 - 18.30 arası mesai saa...</td>\n",
       "      <td>Bilgi Teknolojileri</td>\n",
       "    </tr>\n",
       "    <tr>\n",
       "      <th>3</th>\n",
       "      <td>3463995</td>\n",
       "      <td>Full Stack Developer</td>\n",
       "      <td>&lt;p&gt;Yeditek Yeni Dijital Teknolojiler A.Ş.&lt;/p&gt;&lt;...</td>\n",
       "      <td>Bilgi Teknolojileri</td>\n",
       "    </tr>\n",
       "    <tr>\n",
       "      <th>4</th>\n",
       "      <td>3463739</td>\n",
       "      <td>Multimedya Tasarım Uzmanı</td>\n",
       "      <td>&lt;p&gt;Türkiye'de eğitim teknolojileri alanının il...</td>\n",
       "      <td>Bilgi Teknolojileri</td>\n",
       "    </tr>\n",
       "  </tbody>\n",
       "</table>\n",
       "</div>"
      ],
      "text/plain": [
       "   JobRefNo               DigerPozisyon  \\\n",
       "0   3464108        Bilgisayar Mühendisi   \n",
       "1   3464068  Yazılım Geliştirme Elemanı   \n",
       "2   3464018            Grafik Tasarımcı   \n",
       "3   3463995        Full Stack Developer   \n",
       "4   3463739   Multimedya Tasarım Uzmanı   \n",
       "\n",
       "                                      Qualifications       Classification  \n",
       "0  <p>3464105346410534641053464105346410534641053...  Bilgi Teknolojileri  \n",
       "1  <p>sskjdkjsdksajl sksakjdlkajdladl dskjlksjlks...  Bilgi Teknolojileri  \n",
       "2  <p>Şartlar</p><p>08.30 - 18.30 arası mesai saa...  Bilgi Teknolojileri  \n",
       "3  <p>Yeditek Yeni Dijital Teknolojiler A.Ş.</p><...  Bilgi Teknolojileri  \n",
       "4  <p>Türkiye'de eğitim teknolojileri alanının il...  Bilgi Teknolojileri  "
      ]
     },
     "execution_count": 3,
     "metadata": {},
     "output_type": "execute_result"
    }
   ],
   "source": [
    "data= pd.read_csv('../proje/Jobs_IT (1).csv')\n",
    "data.head()"
   ]
  },
  {
   "cell_type": "code",
   "execution_count": 4,
   "metadata": {},
   "outputs": [
    {
     "data": {
      "text/plain": [
       "(2500, 4)"
      ]
     },
     "execution_count": 4,
     "metadata": {},
     "output_type": "execute_result"
    }
   ],
   "source": [
    "data.shape"
   ]
  },
  {
   "cell_type": "code",
   "execution_count": 5,
   "metadata": {},
   "outputs": [
    {
     "name": "stdout",
     "output_type": "stream",
     "text": [
      "Number of Classification = 1\n",
      "Number of DigerPozisyon=  1131\n"
     ]
    }
   ],
   "source": [
    "print('Number of Classification =',len (data['Classification'].unique()))\n",
    "print('Number of DigerPozisyon= ',len (data['DigerPozisyon'].unique()))"
   ]
  },
  {
   "cell_type": "markdown",
   "metadata": {},
   "source": [
    "Cleaning Text"
   ]
  },
  {
   "cell_type": "code",
   "execution_count": 6,
   "metadata": {},
   "outputs": [],
   "source": [
    "def CleanHtml(text):\n",
    "    return BeautifulSoup(text).getText('')\n"
   ]
  },
  {
   "cell_type": "code",
   "execution_count": 7,
   "metadata": {},
   "outputs": [
    {
     "data": {
      "text/plain": [
       "'Şartlar08.30 - 18.30 arası mesai saatleri. Sadece pazar günleri çalışmıyoruz. Yerimiz Kızılay- Kolejdedir.NiteliklerOrta seviye Photoshop (Zorunlu)Tercihen Adobe premier bilenTercihen orta seviye İngilizce okuma ve yazmaTercihen ürün çekimi konusunda tecrübeli.İşin TanımıGrafik tasarımın yanı sıra İdari işlerde yardımcı olacak ekip arkadaşı ihtiyacımız vardır.\\xa0Siparişleri\\xa0ayarlama, kargo paketleme, baskı makinalarının kullanımı gibi gün içinde bizler ne yapıyorsak yardımcı olacak personel işe alınacaktır. Ara sıra Adobe premier ve photoshopta projeler verilecektir bu nedenle bilen kişileri tercih ediyoruz.'"
      ]
     },
     "execution_count": 7,
     "metadata": {},
     "output_type": "execute_result"
    }
   ],
   "source": [
    "CleanHtml(BeautifulSoup(data.iloc[2]['Qualifications']).get_text(\"\"))"
   ]
  },
  {
   "cell_type": "code",
   "execution_count": 8,
   "metadata": {},
   "outputs": [
    {
     "name": "stderr",
     "output_type": "stream",
     "text": [
      "100%|██████████| 2500/2500 [00:02<00:00, 951.62it/s] \n"
     ]
    }
   ],
   "source": [
    "data['Qualifications_HtmlFree'] = data.progress_apply(lambda x: CleanHtml(x['Qualifications']),axis=1)"
   ]
  },
  {
   "cell_type": "code",
   "execution_count": 9,
   "metadata": {},
   "outputs": [
    {
     "data": {
      "text/html": [
       "<div>\n",
       "<style scoped>\n",
       "    .dataframe tbody tr th:only-of-type {\n",
       "        vertical-align: middle;\n",
       "    }\n",
       "\n",
       "    .dataframe tbody tr th {\n",
       "        vertical-align: top;\n",
       "    }\n",
       "\n",
       "    .dataframe thead th {\n",
       "        text-align: right;\n",
       "    }\n",
       "</style>\n",
       "<table border=\"1\" class=\"dataframe\">\n",
       "  <thead>\n",
       "    <tr style=\"text-align: right;\">\n",
       "      <th></th>\n",
       "      <th>JobRefNo</th>\n",
       "      <th>DigerPozisyon</th>\n",
       "      <th>Qualifications</th>\n",
       "      <th>Classification</th>\n",
       "      <th>Qualifications_HtmlFree</th>\n",
       "    </tr>\n",
       "  </thead>\n",
       "  <tbody>\n",
       "    <tr>\n",
       "      <th>0</th>\n",
       "      <td>3464108</td>\n",
       "      <td>Bilgisayar Mühendisi</td>\n",
       "      <td>&lt;p&gt;3464105346410534641053464105346410534641053...</td>\n",
       "      <td>Bilgi Teknolojileri</td>\n",
       "      <td>3464105346410534641053464105346410534641053464...</td>\n",
       "    </tr>\n",
       "    <tr>\n",
       "      <th>1</th>\n",
       "      <td>3464068</td>\n",
       "      <td>Yazılım Geliştirme Elemanı</td>\n",
       "      <td>&lt;p&gt;sskjdkjsdksajl sksakjdlkajdladl dskjlksjlks...</td>\n",
       "      <td>Bilgi Teknolojileri</td>\n",
       "      <td>sskjdkjsdksajl sksakjdlkajdladl dskjlksjlksajl...</td>\n",
       "    </tr>\n",
       "    <tr>\n",
       "      <th>2</th>\n",
       "      <td>3464018</td>\n",
       "      <td>Grafik Tasarımcı</td>\n",
       "      <td>&lt;p&gt;Şartlar&lt;/p&gt;&lt;p&gt;08.30 - 18.30 arası mesai saa...</td>\n",
       "      <td>Bilgi Teknolojileri</td>\n",
       "      <td>Şartlar08.30 - 18.30 arası mesai saatleri. Sad...</td>\n",
       "    </tr>\n",
       "    <tr>\n",
       "      <th>3</th>\n",
       "      <td>3463995</td>\n",
       "      <td>Full Stack Developer</td>\n",
       "      <td>&lt;p&gt;Yeditek Yeni Dijital Teknolojiler A.Ş.&lt;/p&gt;&lt;...</td>\n",
       "      <td>Bilgi Teknolojileri</td>\n",
       "      <td>Yeditek Yeni Dijital Teknolojiler A.Ş.Yeditek,...</td>\n",
       "    </tr>\n",
       "    <tr>\n",
       "      <th>4</th>\n",
       "      <td>3463739</td>\n",
       "      <td>Multimedya Tasarım Uzmanı</td>\n",
       "      <td>&lt;p&gt;Türkiye'de eğitim teknolojileri alanının il...</td>\n",
       "      <td>Bilgi Teknolojileri</td>\n",
       "      <td>Türkiye'de eğitim teknolojileri alanının ilk v...</td>\n",
       "    </tr>\n",
       "  </tbody>\n",
       "</table>\n",
       "</div>"
      ],
      "text/plain": [
       "   JobRefNo               DigerPozisyon  \\\n",
       "0   3464108        Bilgisayar Mühendisi   \n",
       "1   3464068  Yazılım Geliştirme Elemanı   \n",
       "2   3464018            Grafik Tasarımcı   \n",
       "3   3463995        Full Stack Developer   \n",
       "4   3463739   Multimedya Tasarım Uzmanı   \n",
       "\n",
       "                                      Qualifications       Classification  \\\n",
       "0  <p>3464105346410534641053464105346410534641053...  Bilgi Teknolojileri   \n",
       "1  <p>sskjdkjsdksajl sksakjdlkajdladl dskjlksjlks...  Bilgi Teknolojileri   \n",
       "2  <p>Şartlar</p><p>08.30 - 18.30 arası mesai saa...  Bilgi Teknolojileri   \n",
       "3  <p>Yeditek Yeni Dijital Teknolojiler A.Ş.</p><...  Bilgi Teknolojileri   \n",
       "4  <p>Türkiye'de eğitim teknolojileri alanının il...  Bilgi Teknolojileri   \n",
       "\n",
       "                             Qualifications_HtmlFree  \n",
       "0  3464105346410534641053464105346410534641053464...  \n",
       "1  sskjdkjsdksajl sksakjdlkajdladl dskjlksjlksajl...  \n",
       "2  Şartlar08.30 - 18.30 arası mesai saatleri. Sad...  \n",
       "3  Yeditek Yeni Dijital Teknolojiler A.Ş.Yeditek,...  \n",
       "4  Türkiye'de eğitim teknolojileri alanının ilk v...  "
      ]
     },
     "execution_count": 9,
     "metadata": {},
     "output_type": "execute_result"
    }
   ],
   "source": [
    "data.head()"
   ]
  },
  {
   "cell_type": "code",
   "execution_count": 46,
   "metadata": {},
   "outputs": [
    {
     "name": "stdout",
     "output_type": "stream",
     "text": [
      "Length of a sample job description: 693\n"
     ]
    }
   ],
   "source": [
    "length = len(data['Qualifications'][2])\n",
    "print(f'Length of a sample job description: {length}')"
   ]
  },
  {
   "cell_type": "code",
   "execution_count": 11,
   "metadata": {},
   "outputs": [
    {
     "data": {
      "text/html": [
       "<div>\n",
       "<style scoped>\n",
       "    .dataframe tbody tr th:only-of-type {\n",
       "        vertical-align: middle;\n",
       "    }\n",
       "\n",
       "    .dataframe tbody tr th {\n",
       "        vertical-align: top;\n",
       "    }\n",
       "\n",
       "    .dataframe thead th {\n",
       "        text-align: right;\n",
       "    }\n",
       "</style>\n",
       "<table border=\"1\" class=\"dataframe\">\n",
       "  <thead>\n",
       "    <tr style=\"text-align: right;\">\n",
       "      <th></th>\n",
       "      <th>JobRefNo</th>\n",
       "      <th>DigerPozisyon</th>\n",
       "      <th>Qualifications</th>\n",
       "      <th>Classification</th>\n",
       "      <th>Qualifications_HtmlFree</th>\n",
       "      <th>length</th>\n",
       "    </tr>\n",
       "  </thead>\n",
       "  <tbody>\n",
       "    <tr>\n",
       "      <th>0</th>\n",
       "      <td>3464108</td>\n",
       "      <td>Bilgisayar Mühendisi</td>\n",
       "      <td>&lt;p&gt;3464105346410534641053464105346410534641053...</td>\n",
       "      <td>Bilgi Teknolojileri</td>\n",
       "      <td>3464105346410534641053464105346410534641053464...</td>\n",
       "      <td>126</td>\n",
       "    </tr>\n",
       "    <tr>\n",
       "      <th>1</th>\n",
       "      <td>3464068</td>\n",
       "      <td>Yazılım Geliştirme Elemanı</td>\n",
       "      <td>&lt;p&gt;sskjdkjsdksajl sksakjdlkajdladl dskjlksjlks...</td>\n",
       "      <td>Bilgi Teknolojileri</td>\n",
       "      <td>sskjdkjsdksajl sksakjdlkajdladl dskjlksjlksajl...</td>\n",
       "      <td>111</td>\n",
       "    </tr>\n",
       "    <tr>\n",
       "      <th>2</th>\n",
       "      <td>3464018</td>\n",
       "      <td>Grafik Tasarımcı</td>\n",
       "      <td>&lt;p&gt;Şartlar&lt;/p&gt;&lt;p&gt;08.30 - 18.30 arası mesai saa...</td>\n",
       "      <td>Bilgi Teknolojileri</td>\n",
       "      <td>Şartlar08.30 - 18.30 arası mesai saatleri. Sad...</td>\n",
       "      <td>613</td>\n",
       "    </tr>\n",
       "    <tr>\n",
       "      <th>3</th>\n",
       "      <td>3463995</td>\n",
       "      <td>Full Stack Developer</td>\n",
       "      <td>&lt;p&gt;Yeditek Yeni Dijital Teknolojiler A.Ş.&lt;/p&gt;&lt;...</td>\n",
       "      <td>Bilgi Teknolojileri</td>\n",
       "      <td>Yeditek Yeni Dijital Teknolojiler A.Ş.Yeditek,...</td>\n",
       "      <td>695</td>\n",
       "    </tr>\n",
       "    <tr>\n",
       "      <th>4</th>\n",
       "      <td>3463739</td>\n",
       "      <td>Multimedya Tasarım Uzmanı</td>\n",
       "      <td>&lt;p&gt;Türkiye'de eğitim teknolojileri alanının il...</td>\n",
       "      <td>Bilgi Teknolojileri</td>\n",
       "      <td>Türkiye'de eğitim teknolojileri alanının ilk v...</td>\n",
       "      <td>2382</td>\n",
       "    </tr>\n",
       "  </tbody>\n",
       "</table>\n",
       "</div>"
      ],
      "text/plain": [
       "   JobRefNo               DigerPozisyon  \\\n",
       "0   3464108        Bilgisayar Mühendisi   \n",
       "1   3464068  Yazılım Geliştirme Elemanı   \n",
       "2   3464018            Grafik Tasarımcı   \n",
       "3   3463995        Full Stack Developer   \n",
       "4   3463739   Multimedya Tasarım Uzmanı   \n",
       "\n",
       "                                      Qualifications       Classification  \\\n",
       "0  <p>3464105346410534641053464105346410534641053...  Bilgi Teknolojileri   \n",
       "1  <p>sskjdkjsdksajl sksakjdlkajdladl dskjlksjlks...  Bilgi Teknolojileri   \n",
       "2  <p>Şartlar</p><p>08.30 - 18.30 arası mesai saa...  Bilgi Teknolojileri   \n",
       "3  <p>Yeditek Yeni Dijital Teknolojiler A.Ş.</p><...  Bilgi Teknolojileri   \n",
       "4  <p>Türkiye'de eğitim teknolojileri alanının il...  Bilgi Teknolojileri   \n",
       "\n",
       "                             Qualifications_HtmlFree  length  \n",
       "0  3464105346410534641053464105346410534641053464...     126  \n",
       "1  sskjdkjsdksajl sksakjdlkajdladl dskjlksjlksajl...     111  \n",
       "2  Şartlar08.30 - 18.30 arası mesai saatleri. Sad...     613  \n",
       "3  Yeditek Yeni Dijital Teknolojiler A.Ş.Yeditek,...     695  \n",
       "4  Türkiye'de eğitim teknolojileri alanının ilk v...    2382  "
      ]
     },
     "execution_count": 11,
     "metadata": {},
     "output_type": "execute_result"
    }
   ],
   "source": [
    "data['length'] = data ['Qualifications_HtmlFree'].str.len()\n",
    "data.head(5)"
   ]
  },
  {
   "cell_type": "code",
   "execution_count": 12,
   "metadata": {},
   "outputs": [
    {
     "name": "stdout",
     "output_type": "stream",
     "text": [
      "Word count in a sample review: 87\n"
     ]
    }
   ],
   "source": [
    "word_count = data['Qualifications_HtmlFree'][3].split()\n",
    "print(f'Word count in a sample review: {len(word_count)}')"
   ]
  },
  {
   "cell_type": "code",
   "execution_count": 13,
   "metadata": {},
   "outputs": [
    {
     "name": "stderr",
     "output_type": "stream",
     "text": [
      "100%|██████████| 2500/2500 [00:00<00:00, 34142.78it/s]\n"
     ]
    },
    {
     "data": {
      "text/html": [
       "<div>\n",
       "<style scoped>\n",
       "    .dataframe tbody tr th:only-of-type {\n",
       "        vertical-align: middle;\n",
       "    }\n",
       "\n",
       "    .dataframe tbody tr th {\n",
       "        vertical-align: top;\n",
       "    }\n",
       "\n",
       "    .dataframe thead th {\n",
       "        text-align: right;\n",
       "    }\n",
       "</style>\n",
       "<table border=\"1\" class=\"dataframe\">\n",
       "  <thead>\n",
       "    <tr style=\"text-align: right;\">\n",
       "      <th></th>\n",
       "      <th>JobRefNo</th>\n",
       "      <th>DigerPozisyon</th>\n",
       "      <th>Qualifications</th>\n",
       "      <th>Classification</th>\n",
       "      <th>Qualifications_HtmlFree</th>\n",
       "      <th>length</th>\n",
       "      <th>Word_count</th>\n",
       "    </tr>\n",
       "  </thead>\n",
       "  <tbody>\n",
       "    <tr>\n",
       "      <th>0</th>\n",
       "      <td>3464108</td>\n",
       "      <td>Bilgisayar Mühendisi</td>\n",
       "      <td>&lt;p&gt;3464105346410534641053464105346410534641053...</td>\n",
       "      <td>Bilgi Teknolojileri</td>\n",
       "      <td>3464105346410534641053464105346410534641053464...</td>\n",
       "      <td>126</td>\n",
       "      <td>1</td>\n",
       "    </tr>\n",
       "    <tr>\n",
       "      <th>1</th>\n",
       "      <td>3464068</td>\n",
       "      <td>Yazılım Geliştirme Elemanı</td>\n",
       "      <td>&lt;p&gt;sskjdkjsdksajl sksakjdlkajdladl dskjlksjlks...</td>\n",
       "      <td>Bilgi Teknolojileri</td>\n",
       "      <td>sskjdkjsdksajl sksakjdlkajdladl dskjlksjlksajl...</td>\n",
       "      <td>111</td>\n",
       "      <td>5</td>\n",
       "    </tr>\n",
       "    <tr>\n",
       "      <th>2</th>\n",
       "      <td>3464018</td>\n",
       "      <td>Grafik Tasarımcı</td>\n",
       "      <td>&lt;p&gt;Şartlar&lt;/p&gt;&lt;p&gt;08.30 - 18.30 arası mesai saa...</td>\n",
       "      <td>Bilgi Teknolojileri</td>\n",
       "      <td>Şartlar08.30 - 18.30 arası mesai saatleri. Sad...</td>\n",
       "      <td>613</td>\n",
       "      <td>73</td>\n",
       "    </tr>\n",
       "  </tbody>\n",
       "</table>\n",
       "</div>"
      ],
      "text/plain": [
       "   JobRefNo               DigerPozisyon  \\\n",
       "0   3464108        Bilgisayar Mühendisi   \n",
       "1   3464068  Yazılım Geliştirme Elemanı   \n",
       "2   3464018            Grafik Tasarımcı   \n",
       "\n",
       "                                      Qualifications       Classification  \\\n",
       "0  <p>3464105346410534641053464105346410534641053...  Bilgi Teknolojileri   \n",
       "1  <p>sskjdkjsdksajl sksakjdlkajdladl dskjlksjlks...  Bilgi Teknolojileri   \n",
       "2  <p>Şartlar</p><p>08.30 - 18.30 arası mesai saa...  Bilgi Teknolojileri   \n",
       "\n",
       "                             Qualifications_HtmlFree  length  Word_count  \n",
       "0  3464105346410534641053464105346410534641053464...     126           1  \n",
       "1  sskjdkjsdksajl sksakjdlkajdladl dskjlksjlksajl...     111           5  \n",
       "2  Şartlar08.30 - 18.30 arası mesai saatleri. Sad...     613          73  "
      ]
     },
     "execution_count": 13,
     "metadata": {},
     "output_type": "execute_result"
    }
   ],
   "source": [
    "def word_count(review):\n",
    "    review_list = review.split()\n",
    "    return len(review_list)\n",
    "\n",
    "data['Word_count'] = data['Qualifications_HtmlFree'].progress_apply(word_count)\n",
    "data.head(3)"
   ]
  },
  {
   "cell_type": "code",
   "execution_count": 14,
   "metadata": {},
   "outputs": [
    {
     "data": {
      "text/html": [
       "<div>\n",
       "<style scoped>\n",
       "    .dataframe tbody tr th:only-of-type {\n",
       "        vertical-align: middle;\n",
       "    }\n",
       "\n",
       "    .dataframe tbody tr th {\n",
       "        vertical-align: top;\n",
       "    }\n",
       "\n",
       "    .dataframe thead th {\n",
       "        text-align: right;\n",
       "    }\n",
       "</style>\n",
       "<table border=\"1\" class=\"dataframe\">\n",
       "  <thead>\n",
       "    <tr style=\"text-align: right;\">\n",
       "      <th></th>\n",
       "      <th>JobRefNo</th>\n",
       "      <th>DigerPozisyon</th>\n",
       "      <th>Qualifications</th>\n",
       "      <th>Classification</th>\n",
       "      <th>Qualifications_HtmlFree</th>\n",
       "      <th>length</th>\n",
       "      <th>Word_count</th>\n",
       "      <th>mean_word_length</th>\n",
       "    </tr>\n",
       "  </thead>\n",
       "  <tbody>\n",
       "    <tr>\n",
       "      <th>0</th>\n",
       "      <td>3464108</td>\n",
       "      <td>Bilgisayar Mühendisi</td>\n",
       "      <td>&lt;p&gt;3464105346410534641053464105346410534641053...</td>\n",
       "      <td>Bilgi Teknolojileri</td>\n",
       "      <td>3464105346410534641053464105346410534641053464...</td>\n",
       "      <td>126</td>\n",
       "      <td>1</td>\n",
       "      <td>126.000000</td>\n",
       "    </tr>\n",
       "    <tr>\n",
       "      <th>1</th>\n",
       "      <td>3464068</td>\n",
       "      <td>Yazılım Geliştirme Elemanı</td>\n",
       "      <td>&lt;p&gt;sskjdkjsdksajl sksakjdlkajdladl dskjlksjlks...</td>\n",
       "      <td>Bilgi Teknolojileri</td>\n",
       "      <td>sskjdkjsdksajl sksakjdlkajdladl dskjlksjlksajl...</td>\n",
       "      <td>111</td>\n",
       "      <td>5</td>\n",
       "      <td>21.400000</td>\n",
       "    </tr>\n",
       "    <tr>\n",
       "      <th>2</th>\n",
       "      <td>3464018</td>\n",
       "      <td>Grafik Tasarımcı</td>\n",
       "      <td>&lt;p&gt;Şartlar&lt;/p&gt;&lt;p&gt;08.30 - 18.30 arası mesai saa...</td>\n",
       "      <td>Bilgi Teknolojileri</td>\n",
       "      <td>Şartlar08.30 - 18.30 arası mesai saatleri. Sad...</td>\n",
       "      <td>613</td>\n",
       "      <td>73</td>\n",
       "      <td>7.410959</td>\n",
       "    </tr>\n",
       "  </tbody>\n",
       "</table>\n",
       "</div>"
      ],
      "text/plain": [
       "   JobRefNo               DigerPozisyon  \\\n",
       "0   3464108        Bilgisayar Mühendisi   \n",
       "1   3464068  Yazılım Geliştirme Elemanı   \n",
       "2   3464018            Grafik Tasarımcı   \n",
       "\n",
       "                                      Qualifications       Classification  \\\n",
       "0  <p>3464105346410534641053464105346410534641053...  Bilgi Teknolojileri   \n",
       "1  <p>sskjdkjsdksajl sksakjdlkajdladl dskjlksjlks...  Bilgi Teknolojileri   \n",
       "2  <p>Şartlar</p><p>08.30 - 18.30 arası mesai saa...  Bilgi Teknolojileri   \n",
       "\n",
       "                             Qualifications_HtmlFree  length  Word_count  \\\n",
       "0  3464105346410534641053464105346410534641053464...     126           1   \n",
       "1  sskjdkjsdksajl sksakjdlkajdladl dskjlksjlksajl...     111           5   \n",
       "2  Şartlar08.30 - 18.30 arası mesai saatleri. Sad...     613          73   \n",
       "\n",
       "   mean_word_length  \n",
       "0        126.000000  \n",
       "1         21.400000  \n",
       "2          7.410959  "
      ]
     },
     "execution_count": 14,
     "metadata": {},
     "output_type": "execute_result"
    }
   ],
   "source": [
    "import numpy as np \n",
    "data['mean_word_length'] = data['Qualifications_HtmlFree'].map(lambda rev: np.mean([len(word) for word in rev.split()]))\n",
    "data.head(3)"
   ]
  },
  {
   "cell_type": "code",
   "execution_count": 15,
   "metadata": {},
   "outputs": [
    {
     "data": {
      "text/html": [
       "<div>\n",
       "<style scoped>\n",
       "    .dataframe tbody tr th:only-of-type {\n",
       "        vertical-align: middle;\n",
       "    }\n",
       "\n",
       "    .dataframe tbody tr th {\n",
       "        vertical-align: top;\n",
       "    }\n",
       "\n",
       "    .dataframe thead th {\n",
       "        text-align: right;\n",
       "    }\n",
       "</style>\n",
       "<table border=\"1\" class=\"dataframe\">\n",
       "  <thead>\n",
       "    <tr style=\"text-align: right;\">\n",
       "      <th></th>\n",
       "      <th>JobRefNo</th>\n",
       "      <th>DigerPozisyon</th>\n",
       "      <th>Qualifications</th>\n",
       "      <th>Classification</th>\n",
       "      <th>Qualifications_HtmlFree</th>\n",
       "      <th>length</th>\n",
       "      <th>Word_count</th>\n",
       "      <th>mean_word_length</th>\n",
       "      <th>mean_sent_length</th>\n",
       "    </tr>\n",
       "  </thead>\n",
       "  <tbody>\n",
       "    <tr>\n",
       "      <th>0</th>\n",
       "      <td>3464108</td>\n",
       "      <td>Bilgisayar Mühendisi</td>\n",
       "      <td>&lt;p&gt;3464105346410534641053464105346410534641053...</td>\n",
       "      <td>Bilgi Teknolojileri</td>\n",
       "      <td>3464105346410534641053464105346410534641053464...</td>\n",
       "      <td>126</td>\n",
       "      <td>1</td>\n",
       "      <td>126.000000</td>\n",
       "      <td>126.0</td>\n",
       "    </tr>\n",
       "    <tr>\n",
       "      <th>1</th>\n",
       "      <td>3464068</td>\n",
       "      <td>Yazılım Geliştirme Elemanı</td>\n",
       "      <td>&lt;p&gt;sskjdkjsdksajl sksakjdlkajdladl dskjlksjlks...</td>\n",
       "      <td>Bilgi Teknolojileri</td>\n",
       "      <td>sskjdkjsdksajl sksakjdlkajdladl dskjlksjlksajl...</td>\n",
       "      <td>111</td>\n",
       "      <td>5</td>\n",
       "      <td>21.400000</td>\n",
       "      <td>111.0</td>\n",
       "    </tr>\n",
       "    <tr>\n",
       "      <th>2</th>\n",
       "      <td>3464018</td>\n",
       "      <td>Grafik Tasarımcı</td>\n",
       "      <td>&lt;p&gt;Şartlar&lt;/p&gt;&lt;p&gt;08.30 - 18.30 arası mesai saa...</td>\n",
       "      <td>Bilgi Teknolojileri</td>\n",
       "      <td>Şartlar08.30 - 18.30 arası mesai saatleri. Sad...</td>\n",
       "      <td>613</td>\n",
       "      <td>73</td>\n",
       "      <td>7.410959</td>\n",
       "      <td>121.8</td>\n",
       "    </tr>\n",
       "  </tbody>\n",
       "</table>\n",
       "</div>"
      ],
      "text/plain": [
       "   JobRefNo               DigerPozisyon  \\\n",
       "0   3464108        Bilgisayar Mühendisi   \n",
       "1   3464068  Yazılım Geliştirme Elemanı   \n",
       "2   3464018            Grafik Tasarımcı   \n",
       "\n",
       "                                      Qualifications       Classification  \\\n",
       "0  <p>3464105346410534641053464105346410534641053...  Bilgi Teknolojileri   \n",
       "1  <p>sskjdkjsdksajl sksakjdlkajdladl dskjlksjlks...  Bilgi Teknolojileri   \n",
       "2  <p>Şartlar</p><p>08.30 - 18.30 arası mesai saa...  Bilgi Teknolojileri   \n",
       "\n",
       "                             Qualifications_HtmlFree  length  Word_count  \\\n",
       "0  3464105346410534641053464105346410534641053464...     126           1   \n",
       "1  sskjdkjsdksajl sksakjdlkajdladl dskjlksjlksajl...     111           5   \n",
       "2  Şartlar08.30 - 18.30 arası mesai saatleri. Sad...     613          73   \n",
       "\n",
       "   mean_word_length  mean_sent_length  \n",
       "0        126.000000             126.0  \n",
       "1         21.400000             111.0  \n",
       "2          7.410959             121.8  "
      ]
     },
     "execution_count": 15,
     "metadata": {},
     "output_type": "execute_result"
    }
   ],
   "source": [
    "data['mean_sent_length'] = data['Qualifications_HtmlFree'].map(lambda rev: np.mean([len(sent) for sent in tokenize.sent_tokenize(rev)]))\n",
    "data.head(3)"
   ]
  },
  {
   "cell_type": "code",
   "execution_count": 16,
   "metadata": {},
   "outputs": [
    {
     "data": {
      "text/html": [
       "<div>\n",
       "<style scoped>\n",
       "    .dataframe tbody tr th:only-of-type {\n",
       "        vertical-align: middle;\n",
       "    }\n",
       "\n",
       "    .dataframe tbody tr th {\n",
       "        vertical-align: top;\n",
       "    }\n",
       "\n",
       "    .dataframe thead th {\n",
       "        text-align: right;\n",
       "    }\n",
       "</style>\n",
       "<table border=\"1\" class=\"dataframe\">\n",
       "  <thead>\n",
       "    <tr style=\"text-align: right;\">\n",
       "      <th></th>\n",
       "      <th>JobRefNo</th>\n",
       "      <th>DigerPozisyon</th>\n",
       "      <th>Qualifications</th>\n",
       "      <th>Classification</th>\n",
       "      <th>Qualifications_HtmlFree</th>\n",
       "      <th>length</th>\n",
       "      <th>Word_count</th>\n",
       "      <th>mean_word_length</th>\n",
       "      <th>mean_sent_length</th>\n",
       "      <th>categorical_label</th>\n",
       "    </tr>\n",
       "  </thead>\n",
       "  <tbody>\n",
       "    <tr>\n",
       "      <th>0</th>\n",
       "      <td>3464108</td>\n",
       "      <td>Bilgisayar Mühendisi</td>\n",
       "      <td>&lt;p&gt;3464105346410534641053464105346410534641053...</td>\n",
       "      <td>Bilgi Teknolojileri</td>\n",
       "      <td>3464105346410534641053464105346410534641053464...</td>\n",
       "      <td>126</td>\n",
       "      <td>1</td>\n",
       "      <td>126.000000</td>\n",
       "      <td>126.0</td>\n",
       "      <td>0</td>\n",
       "    </tr>\n",
       "    <tr>\n",
       "      <th>1</th>\n",
       "      <td>3464068</td>\n",
       "      <td>Yazılım Geliştirme Elemanı</td>\n",
       "      <td>&lt;p&gt;sskjdkjsdksajl sksakjdlkajdladl dskjlksjlks...</td>\n",
       "      <td>Bilgi Teknolojileri</td>\n",
       "      <td>sskjdkjsdksajl sksakjdlkajdladl dskjlksjlksajl...</td>\n",
       "      <td>111</td>\n",
       "      <td>5</td>\n",
       "      <td>21.400000</td>\n",
       "      <td>111.0</td>\n",
       "      <td>0</td>\n",
       "    </tr>\n",
       "    <tr>\n",
       "      <th>2</th>\n",
       "      <td>3464018</td>\n",
       "      <td>Grafik Tasarımcı</td>\n",
       "      <td>&lt;p&gt;Şartlar&lt;/p&gt;&lt;p&gt;08.30 - 18.30 arası mesai saa...</td>\n",
       "      <td>Bilgi Teknolojileri</td>\n",
       "      <td>Şartlar08.30 - 18.30 arası mesai saatleri. Sad...</td>\n",
       "      <td>613</td>\n",
       "      <td>73</td>\n",
       "      <td>7.410959</td>\n",
       "      <td>121.8</td>\n",
       "      <td>0</td>\n",
       "    </tr>\n",
       "  </tbody>\n",
       "</table>\n",
       "</div>"
      ],
      "text/plain": [
       "   JobRefNo               DigerPozisyon  \\\n",
       "0   3464108        Bilgisayar Mühendisi   \n",
       "1   3464068  Yazılım Geliştirme Elemanı   \n",
       "2   3464018            Grafik Tasarımcı   \n",
       "\n",
       "                                      Qualifications       Classification  \\\n",
       "0  <p>3464105346410534641053464105346410534641053...  Bilgi Teknolojileri   \n",
       "1  <p>sskjdkjsdksajl sksakjdlkajdladl dskjlksjlks...  Bilgi Teknolojileri   \n",
       "2  <p>Şartlar</p><p>08.30 - 18.30 arası mesai saa...  Bilgi Teknolojileri   \n",
       "\n",
       "                             Qualifications_HtmlFree  length  Word_count  \\\n",
       "0  3464105346410534641053464105346410534641053464...     126           1   \n",
       "1  sskjdkjsdksajl sksakjdlkajdladl dskjlksjlksajl...     111           5   \n",
       "2  Şartlar08.30 - 18.30 arası mesai saatleri. Sad...     613          73   \n",
       "\n",
       "   mean_word_length  mean_sent_length  categorical_label  \n",
       "0        126.000000             126.0                  0  \n",
       "1         21.400000             111.0                  0  \n",
       "2          7.410959             121.8                  0  "
      ]
     },
     "execution_count": 16,
     "metadata": {},
     "output_type": "execute_result"
    }
   ],
   "source": [
    "from sklearn import preprocessing\n",
    "\n",
    "le = preprocessing.LabelEncoder()\n",
    "le.fit(data.Classification)\n",
    "data['categorical_label'] = le.transform(data.Classification)\n",
    "data['categorical_label'] = data['categorical_label'].astype(int)\n",
    "data.head(3)"
   ]
  },
  {
   "cell_type": "code",
   "execution_count": 17,
   "metadata": {},
   "outputs": [],
   "source": [
    "import matplotlib.pyplot as plt\n",
    "import seaborn as sns\n",
    "\n",
    "def visualize(col):\n",
    "    \n",
    "    print()\n",
    "    plt.subplot(1,2,1)\n",
    "    sns.boxplot(y=data[col])\n",
    "    plt.ylabel(col, labelpad=12.5)\n",
    "    \n",
    " \n",
    "    plt.show()"
   ]
  },
  {
   "cell_type": "code",
   "execution_count": 18,
   "metadata": {},
   "outputs": [
    {
     "data": {
      "text/plain": [
       "['length',\n",
       " 'Word_count',\n",
       " 'mean_word_length',\n",
       " 'mean_sent_length',\n",
       " 'categorical_label']"
      ]
     },
     "execution_count": 18,
     "metadata": {},
     "output_type": "execute_result"
    }
   ],
   "source": [
    "data.columns.tolist()[5:]"
   ]
  },
  {
   "cell_type": "code",
   "execution_count": 19,
   "metadata": {},
   "outputs": [
    {
     "name": "stdout",
     "output_type": "stream",
     "text": [
      "\n"
     ]
    },
    {
     "name": "stderr",
     "output_type": "stream",
     "text": [
      "c:\\Users\\melik\\anaconda3\\Lib\\site-packages\\seaborn\\_oldcore.py:1498: FutureWarning: is_categorical_dtype is deprecated and will be removed in a future version. Use isinstance(dtype, CategoricalDtype) instead\n",
      "  if pd.api.types.is_categorical_dtype(vector):\n"
     ]
    },
    {
     "data": {
      "image/png": "[encoded data removed]",
      "text/plain": [
       "<Figure size 640x480 with 1 Axes>"
      ]
     },
     "metadata": {},
     "output_type": "display_data"
    },
    {
     "name": "stdout",
     "output_type": "stream",
     "text": [
      "\n"
     ]
    },
    {
     "name": "stderr",
     "output_type": "stream",
     "text": [
      "c:\\Users\\melik\\anaconda3\\Lib\\site-packages\\seaborn\\_oldcore.py:1498: FutureWarning: is_categorical_dtype is deprecated and will be removed in a future version. Use isinstance(dtype, CategoricalDtype) instead\n",
      "  if pd.api.types.is_categorical_dtype(vector):\n"
     ]
    },
    {
     "data": {
      "image/png": "[encoded data removed]",
      "text/plain": [
       "<Figure size 640x480 with 1 Axes>"
      ]
     },
     "metadata": {},
     "output_type": "display_data"
    },
    {
     "name": "stdout",
     "output_type": "stream",
     "text": [
      "\n"
     ]
    },
    {
     "name": "stderr",
     "output_type": "stream",
     "text": [
      "c:\\Users\\melik\\anaconda3\\Lib\\site-packages\\seaborn\\_oldcore.py:1498: FutureWarning: is_categorical_dtype is deprecated and will be removed in a future version. Use isinstance(dtype, CategoricalDtype) instead\n",
      "  if pd.api.types.is_categorical_dtype(vector):\n"
     ]
    },
    {
     "data": {
      "image/png": "[encoded data removed]",
      "text/plain": [
       "<Figure size 640x480 with 1 Axes>"
      ]
     },
     "metadata": {},
     "output_type": "display_data"
    },
    {
     "name": "stdout",
     "output_type": "stream",
     "text": [
      "\n"
     ]
    },
    {
     "name": "stderr",
     "output_type": "stream",
     "text": [
      "c:\\Users\\melik\\anaconda3\\Lib\\site-packages\\seaborn\\_oldcore.py:1498: FutureWarning: is_categorical_dtype is deprecated and will be removed in a future version. Use isinstance(dtype, CategoricalDtype) instead\n",
      "  if pd.api.types.is_categorical_dtype(vector):\n"
     ]
    },
    {
     "data": {
      "image/png": "[encoded data removed]",
      "text/plain": [
       "<Figure size 640x480 with 1 Axes>"
      ]
     },
     "metadata": {},
     "output_type": "display_data"
    },
    {
     "name": "stderr",
     "output_type": "stream",
     "text": [
      "c:\\Users\\melik\\anaconda3\\Lib\\site-packages\\seaborn\\_oldcore.py:1498: FutureWarning: is_categorical_dtype is deprecated and will be removed in a future version. Use isinstance(dtype, CategoricalDtype) instead\n",
      "  if pd.api.types.is_categorical_dtype(vector):\n"
     ]
    },
    {
     "name": "stdout",
     "output_type": "stream",
     "text": [
      "\n"
     ]
    },
    {
     "data": {
      "image/png": "[encoded data removed]",
      "text/plain": [
       "<Figure size 640x480 with 1 Axes>"
      ]
     },
     "metadata": {},
     "output_type": "display_data"
    }
   ],
   "source": [
    "features = data.columns.tolist()[5:]\n",
    "for feature in features:\n",
    "    visualize(feature)"
   ]
  },
  {
   "cell_type": "markdown",
   "metadata": {},
   "source": [
    "FREKANS ANALİZİ"
   ]
  },
  {
   "cell_type": "code",
   "execution_count": 20,
   "metadata": {},
   "outputs": [
    {
     "data": {
      "text/html": [
       "<div>\n",
       "<style scoped>\n",
       "    .dataframe tbody tr th:only-of-type {\n",
       "        vertical-align: middle;\n",
       "    }\n",
       "\n",
       "    .dataframe tbody tr th {\n",
       "        vertical-align: top;\n",
       "    }\n",
       "\n",
       "    .dataframe thead th {\n",
       "        text-align: right;\n",
       "    }\n",
       "</style>\n",
       "<table border=\"1\" class=\"dataframe\">\n",
       "  <thead>\n",
       "    <tr style=\"text-align: right;\">\n",
       "      <th></th>\n",
       "      <th>JobRefNo</th>\n",
       "      <th>DigerPozisyon</th>\n",
       "      <th>Qualifications</th>\n",
       "      <th>Classification</th>\n",
       "      <th>Qualifications_HtmlFree</th>\n",
       "    </tr>\n",
       "  </thead>\n",
       "  <tbody>\n",
       "    <tr>\n",
       "      <th>0</th>\n",
       "      <td>3464108</td>\n",
       "      <td>Bilgisayar Mühendisi</td>\n",
       "      <td>&lt;p&gt;3464105346410534641053464105346410534641053...</td>\n",
       "      <td>Bilgi Teknolojileri</td>\n",
       "      <td>3464105346410534641053464105346410534641053464...</td>\n",
       "    </tr>\n",
       "    <tr>\n",
       "      <th>1</th>\n",
       "      <td>3464068</td>\n",
       "      <td>Yazılım Geliştirme Elemanı</td>\n",
       "      <td>&lt;p&gt;sskjdkjsdksajl sksakjdlkajdladl dskjlksjlks...</td>\n",
       "      <td>Bilgi Teknolojileri</td>\n",
       "      <td>sskjdkjsdksajl sksakjdlkajdladl dskjlksjlksajl...</td>\n",
       "    </tr>\n",
       "    <tr>\n",
       "      <th>2</th>\n",
       "      <td>3464018</td>\n",
       "      <td>Grafik Tasarımcı</td>\n",
       "      <td>&lt;p&gt;Şartlar&lt;/p&gt;&lt;p&gt;08.30 - 18.30 arası mesai saa...</td>\n",
       "      <td>Bilgi Teknolojileri</td>\n",
       "      <td>Şartlar08.30 - 18.30 arası mesai saatleri. Sad...</td>\n",
       "    </tr>\n",
       "    <tr>\n",
       "      <th>3</th>\n",
       "      <td>3463995</td>\n",
       "      <td>Full Stack Developer</td>\n",
       "      <td>&lt;p&gt;Yeditek Yeni Dijital Teknolojiler A.Ş.&lt;/p&gt;&lt;...</td>\n",
       "      <td>Bilgi Teknolojileri</td>\n",
       "      <td>Yeditek Yeni Dijital Teknolojiler A.Ş.Yeditek,...</td>\n",
       "    </tr>\n",
       "    <tr>\n",
       "      <th>4</th>\n",
       "      <td>3463739</td>\n",
       "      <td>Multimedya Tasarım Uzmanı</td>\n",
       "      <td>&lt;p&gt;Türkiye'de eğitim teknolojileri alanının il...</td>\n",
       "      <td>Bilgi Teknolojileri</td>\n",
       "      <td>Türkiye'de eğitim teknolojileri alanının ilk v...</td>\n",
       "    </tr>\n",
       "  </tbody>\n",
       "</table>\n",
       "</div>"
      ],
      "text/plain": [
       "   JobRefNo               DigerPozisyon  \\\n",
       "0   3464108        Bilgisayar Mühendisi   \n",
       "1   3464068  Yazılım Geliştirme Elemanı   \n",
       "2   3464018            Grafik Tasarımcı   \n",
       "3   3463995        Full Stack Developer   \n",
       "4   3463739   Multimedya Tasarım Uzmanı   \n",
       "\n",
       "                                      Qualifications       Classification  \\\n",
       "0  <p>3464105346410534641053464105346410534641053...  Bilgi Teknolojileri   \n",
       "1  <p>sskjdkjsdksajl sksakjdlkajdladl dskjlksjlks...  Bilgi Teknolojileri   \n",
       "2  <p>Şartlar</p><p>08.30 - 18.30 arası mesai saa...  Bilgi Teknolojileri   \n",
       "3  <p>Yeditek Yeni Dijital Teknolojiler A.Ş.</p><...  Bilgi Teknolojileri   \n",
       "4  <p>Türkiye'de eğitim teknolojileri alanının il...  Bilgi Teknolojileri   \n",
       "\n",
       "                             Qualifications_HtmlFree  \n",
       "0  3464105346410534641053464105346410534641053464...  \n",
       "1  sskjdkjsdksajl sksakjdlkajdladl dskjlksjlksajl...  \n",
       "2  Şartlar08.30 - 18.30 arası mesai saatleri. Sad...  \n",
       "3  Yeditek Yeni Dijital Teknolojiler A.Ş.Yeditek,...  \n",
       "4  Türkiye'de eğitim teknolojileri alanının ilk v...  "
      ]
     },
     "execution_count": 20,
     "metadata": {},
     "output_type": "execute_result"
    }
   ],
   "source": [
    "df = data.drop(features, axis=1)\n",
    "df.head()"
   ]
  },
  {
   "cell_type": "code",
   "execution_count": 21,
   "metadata": {},
   "outputs": [
    {
     "name": "stdout",
     "output_type": "stream",
     "text": [
      "<class 'pandas.core.frame.DataFrame'>\n",
      "RangeIndex: 2500 entries, 0 to 2499\n",
      "Data columns (total 5 columns):\n",
      " #   Column                   Non-Null Count  Dtype \n",
      "---  ------                   --------------  ----- \n",
      " 0   JobRefNo                 2500 non-null   int64 \n",
      " 1   DigerPozisyon            2500 non-null   object\n",
      " 2   Qualifications           2500 non-null   object\n",
      " 3   Classification           2500 non-null   object\n",
      " 4   Qualifications_HtmlFree  2500 non-null   object\n",
      "dtypes: int64(1), object(4)\n",
      "memory usage: 97.8+ KB\n"
     ]
    }
   ],
   "source": [
    "df.info()"
   ]
  },
  {
   "cell_type": "code",
   "execution_count": 22,
   "metadata": {},
   "outputs": [
    {
     "data": {
      "text/plain": [
       "['i',\n",
       " 'me',\n",
       " 'my',\n",
       " 'myself',\n",
       " 'we',\n",
       " 'our',\n",
       " 'ours',\n",
       " 'ourselves',\n",
       " 'you',\n",
       " \"you're\",\n",
       " \"you've\",\n",
       " \"you'll\",\n",
       " \"you'd\",\n",
       " 'your',\n",
       " 'yours',\n",
       " 'yourself',\n",
       " 'yourselves',\n",
       " 'he',\n",
       " 'him',\n",
       " 'his',\n",
       " 'himself',\n",
       " 'she',\n",
       " \"she's\",\n",
       " 'her',\n",
       " 'hers',\n",
       " 'herself',\n",
       " 'it',\n",
       " \"it's\",\n",
       " 'its',\n",
       " 'itself',\n",
       " 'they',\n",
       " 'them',\n",
       " 'their',\n",
       " 'theirs',\n",
       " 'themselves',\n",
       " 'what',\n",
       " 'which',\n",
       " 'who',\n",
       " 'whom',\n",
       " 'this',\n",
       " 'that',\n",
       " \"that'll\",\n",
       " 'these',\n",
       " 'those',\n",
       " 'am',\n",
       " 'is',\n",
       " 'are',\n",
       " 'was',\n",
       " 'were',\n",
       " 'be',\n",
       " 'been',\n",
       " 'being',\n",
       " 'have',\n",
       " 'has',\n",
       " 'had',\n",
       " 'having',\n",
       " 'do',\n",
       " 'does',\n",
       " 'did',\n",
       " 'doing',\n",
       " 'a',\n",
       " 'an',\n",
       " 'the',\n",
       " 'and',\n",
       " 'but',\n",
       " 'if',\n",
       " 'or',\n",
       " 'because',\n",
       " 'as',\n",
       " 'until',\n",
       " 'while',\n",
       " 'of',\n",
       " 'at',\n",
       " 'by',\n",
       " 'for',\n",
       " 'with',\n",
       " 'about',\n",
       " 'against',\n",
       " 'between',\n",
       " 'into',\n",
       " 'through',\n",
       " 'during',\n",
       " 'before',\n",
       " 'after',\n",
       " 'above',\n",
       " 'below',\n",
       " 'to',\n",
       " 'from',\n",
       " 'up',\n",
       " 'down',\n",
       " 'in',\n",
       " 'out',\n",
       " 'on',\n",
       " 'off',\n",
       " 'over',\n",
       " 'under',\n",
       " 'again',\n",
       " 'further',\n",
       " 'then',\n",
       " 'once',\n",
       " 'here',\n",
       " 'there',\n",
       " 'when',\n",
       " 'where',\n",
       " 'why',\n",
       " 'how',\n",
       " 'all',\n",
       " 'any',\n",
       " 'both',\n",
       " 'each',\n",
       " 'few',\n",
       " 'more',\n",
       " 'most',\n",
       " 'other',\n",
       " 'some',\n",
       " 'such',\n",
       " 'no',\n",
       " 'nor',\n",
       " 'not',\n",
       " 'only',\n",
       " 'own',\n",
       " 'same',\n",
       " 'so',\n",
       " 'than',\n",
       " 'too',\n",
       " 'very',\n",
       " 's',\n",
       " 't',\n",
       " 'can',\n",
       " 'will',\n",
       " 'just',\n",
       " 'don',\n",
       " \"don't\",\n",
       " 'should',\n",
       " \"should've\",\n",
       " 'now',\n",
       " 'd',\n",
       " 'll',\n",
       " 'm',\n",
       " 'o',\n",
       " 're',\n",
       " 've',\n",
       " 'y',\n",
       " 'ain',\n",
       " 'aren',\n",
       " \"aren't\",\n",
       " 'couldn',\n",
       " \"couldn't\",\n",
       " 'didn',\n",
       " \"didn't\",\n",
       " 'doesn',\n",
       " \"doesn't\",\n",
       " 'hadn',\n",
       " \"hadn't\",\n",
       " 'hasn',\n",
       " \"hasn't\",\n",
       " 'haven',\n",
       " \"haven't\",\n",
       " 'isn',\n",
       " \"isn't\",\n",
       " 'ma',\n",
       " 'mightn',\n",
       " \"mightn't\",\n",
       " 'mustn',\n",
       " \"mustn't\",\n",
       " 'needn',\n",
       " \"needn't\",\n",
       " 'shan',\n",
       " \"shan't\",\n",
       " 'shouldn',\n",
       " \"shouldn't\",\n",
       " 'wasn',\n",
       " \"wasn't\",\n",
       " 'weren',\n",
       " \"weren't\",\n",
       " 'won',\n",
       " \"won't\",\n",
       " 'wouldn',\n",
       " \"wouldn't\"]"
      ]
     },
     "execution_count": 22,
     "metadata": {},
     "output_type": "execute_result"
    }
   ],
   "source": [
    "from nltk.corpus import stopwords\n",
    "stopwordList = stopwords.words('english') + stopwords.words('turkish')\n",
    "\n",
    "stopwords.words('english')\n"
   ]
  },
  {
   "cell_type": "code",
   "execution_count": 23,
   "metadata": {},
   "outputs": [],
   "source": [
    "def clean(review):\n",
    "    \n",
    "    review = re.sub(r'(?<![a-zA-ZçÇğĞıİöÖşŞüÜ])\\w+|\\w+(?![a-zA-ZçÇğĞıİöÖşŞüÜ])', ' ', review)\n",
    "    review = review.lower()\n",
    "    review = review.replace('&nbsp;', ' ').replace('“', ' ').replace('·', ' ').replace('i̇','i')\n",
    "    review = review.replace('•', ' ').replace('\\xa0', ' ')\n",
    "    review = review.replace('”', ' ').replace('nan', '').replace('\\r', '').replace('’', ' ')\n",
    "    review = \" \".join([word for word in review.split() if word not in stopwordList])\n",
    "    \n",
    "    return review"
   ]
  },
  {
   "cell_type": "code",
   "execution_count": 24,
   "metadata": {},
   "outputs": [],
   "source": [
    "def tokenize(text):\n",
    "    \n",
    "    #http veya htps ile başlayan urlleri eşleştirir.\n",
    "    \n",
    "    text = re.sub(r'http\\S+', '', text)\n",
    "\n",
    "    # \"r\"#(\\w+)\": metindeki  \"#\" karakterini arar.\n",
    "    text = re.sub(r\"#(\\w+)\", '', text)\n",
    "\n",
    "   # \"@\" harf rakamlar veya alt çizgiler ile eşleştirir.\n",
    "    text = re.sub(r\"@(\\w+)\", '', text)\n",
    "    \n",
    "    text = re.sub(r'[^\\w\\s]', '', text)\n",
    "    text = text.strip().lower()\n",
    "    text = text.replace('&nbsp;', ' ').replace('“', ' ').replace('·', ' ').replace('i̇','i')\n",
    "    text = text.replace('•', ' ').replace('\\xa0', ' ')\n",
    "    text = text.replace('”', ' ').replace('nan', '').replace('\\r', '').replace('’', ' ')\n",
    "    text = \" \".join([word for word in text.split() if word not in stopwordList])\n",
    "    return text"
   ]
  },
  {
   "cell_type": "code",
   "execution_count": 25,
   "metadata": {},
   "outputs": [
    {
     "data": {
      "text/plain": [
       "'genel niteliklerüniversitelerin ilgili bölümlerinden mezuntercihen turizm sektöründe ilgili pozisyonda 2 yıl deneyimlilogo mc opera program uygulamalarına hakimsistem veveya ağ yönetimi konusunda deneyim sahibibilgi gizliliği ilkesine önem verenwindows server işletim sistemlerine hakimdoım ms sql server bilgisine sahipiyi derecede ingilizce bileniş tanimikurum sistem alt yapısını oluşturan bileşenlerin depolama yedekleme ağ iletişim sanallaştırma kamera sistemleri vb bakım yönetim izleme faaliyetlerini gerçekleştirmektemel bilgisayar doım işletim sistemi arızalarını tespit edip gidermek gerektiğinde kablolama parça değişimi yapmaksistemlerde düzenli kontrolleri gerçekleştirerek olası problemleri önceden tespit etmekbilgi güvenliği siber güvenlik konularında mevcut sistem altyapıları olası türlü açıklara karşı güvenli tutmakmevcut uygulamaların teknik altyapısını iyileştirecek çözümler bulunmasını sağlamakhotel overviewswissotel cesme resort spa located izmir çeşme offers 248 rooms 104 residences well day dining restaurant 900sqm open terrace 415m2 lobby lounge 835sqm speciality restaurant w bar 300sqm fitness 575sqm spa 3500sqm swimming pool 715sqm kids pool 69sqm pool bar kisclub hotel also host professional events 9 meeting rooms ballroom 680sqm prefunction room 350sqm'"
      ]
     },
     "execution_count": 25,
     "metadata": {},
     "output_type": "execute_result"
    }
   ],
   "source": [
    "import re\n",
    "tokenize(data.iloc[7]['Qualifications_HtmlFree'])"
   ]
  },
  {
   "cell_type": "code",
   "execution_count": 26,
   "metadata": {},
   "outputs": [
    {
     "data": {
      "text/plain": [
       "'GENEL NİTELİKLERÜniversitelerin ilgili bölümlerinden mezun,Tercihen Turizm sektöründe ilgili pozisyonda en az 2 yıl deneyimli,Logo, MC, Opera Program Uygulamalarına hakim,Sistem ve/veya ağ yönetimi konusunda deneyim sahibi,Bilgi Gizliliği İlkesine önem veren,Windows Server İşletim Sistemlerine hakim,Donanım ve MS SQL Server bilgisine sahip,İyi derecede İngilizce bilen.İŞ TANIMIKurum sistem alt yapısını oluşturan tüm bileşenlerin (depolama, yedekleme, Ağ, iletişim, sanallaştırma, kamera sistemleri vb) bakım, yönetim ve izleme faaliyetlerini gerçekleştirmek,Temel bilgisayar donanım ve işletim sistemi arızalarını tespit edip gidermek, gerektiğinde kablolama ve parça değişimi yapmak,Sistemlerde düzenli kontrolleri gerçekleştirerek olası problemleri önceden tespit etmek,Bilgi güvenliği ve siber güvenlik konularında mevcut sistem ve altyapıları olası her türlü açıklara karşı güvenli tutmak,Mevcut uygulamaların teknik altyapısını iyileştirecek çözümler bulunmasını sağlamak.Hotel OverviewSwissotel Cesme Resort & Spa\\xa0 located İzmir, Çeşme offers 248 rooms and 104 Residences as well as, All Day Dining Restaurant (900sqm, +open terrace 415m2), Lobby Lounge (835sqm), Speciality Restaurant w Bar (300sqm), Fitness (575sqm), Spa (3500sqm), Swimming Pool (715sqm), Kids Pool (69sqm), Pool Bar and Kis’Club. The hotel can also host professional events in the 9 Meeting rooms, Ballroom (680sqm), Pre-Function Room (350sqm).'"
      ]
     },
     "execution_count": 26,
     "metadata": {},
     "output_type": "execute_result"
    }
   ],
   "source": [
    "data.iloc[7]['Qualifications_HtmlFree']"
   ]
  },
  {
   "cell_type": "code",
   "execution_count": 27,
   "metadata": {},
   "outputs": [
    {
     "data": {
      "text/html": [
       "<div>\n",
       "<style scoped>\n",
       "    .dataframe tbody tr th:only-of-type {\n",
       "        vertical-align: middle;\n",
       "    }\n",
       "\n",
       "    .dataframe tbody tr th {\n",
       "        vertical-align: top;\n",
       "    }\n",
       "\n",
       "    .dataframe thead th {\n",
       "        text-align: right;\n",
       "    }\n",
       "</style>\n",
       "<table border=\"1\" class=\"dataframe\">\n",
       "  <thead>\n",
       "    <tr style=\"text-align: right;\">\n",
       "      <th></th>\n",
       "      <th>JobRefNo</th>\n",
       "      <th>DigerPozisyon</th>\n",
       "      <th>Qualifications</th>\n",
       "      <th>Classification</th>\n",
       "      <th>Qualifications_HtmlFree</th>\n",
       "      <th>length</th>\n",
       "      <th>Word_count</th>\n",
       "      <th>mean_word_length</th>\n",
       "      <th>mean_sent_length</th>\n",
       "      <th>categorical_label</th>\n",
       "      <th>Clean</th>\n",
       "    </tr>\n",
       "  </thead>\n",
       "  <tbody>\n",
       "    <tr>\n",
       "      <th>0</th>\n",
       "      <td>3464108</td>\n",
       "      <td>Bilgisayar Mühendisi</td>\n",
       "      <td>&lt;p&gt;3464105346410534641053464105346410534641053...</td>\n",
       "      <td>Bilgi Teknolojileri</td>\n",
       "      <td>3464105346410534641053464105346410534641053464...</td>\n",
       "      <td>126</td>\n",
       "      <td>1</td>\n",
       "      <td>126.000000</td>\n",
       "      <td>126.0</td>\n",
       "      <td>0</td>\n",
       "      <td>3464105346410534641053464105346410534641053464...</td>\n",
       "    </tr>\n",
       "    <tr>\n",
       "      <th>1</th>\n",
       "      <td>3464068</td>\n",
       "      <td>Yazılım Geliştirme Elemanı</td>\n",
       "      <td>&lt;p&gt;sskjdkjsdksajl sksakjdlkajdladl dskjlksjlks...</td>\n",
       "      <td>Bilgi Teknolojileri</td>\n",
       "      <td>sskjdkjsdksajl sksakjdlkajdladl dskjlksjlksajl...</td>\n",
       "      <td>111</td>\n",
       "      <td>5</td>\n",
       "      <td>21.400000</td>\n",
       "      <td>111.0</td>\n",
       "      <td>0</td>\n",
       "      <td>sskjdkjsdksajl sksakjdlkajdladl dskjlksjlksajl...</td>\n",
       "    </tr>\n",
       "    <tr>\n",
       "      <th>2</th>\n",
       "      <td>3464018</td>\n",
       "      <td>Grafik Tasarımcı</td>\n",
       "      <td>&lt;p&gt;Şartlar&lt;/p&gt;&lt;p&gt;08.30 - 18.30 arası mesai saa...</td>\n",
       "      <td>Bilgi Teknolojileri</td>\n",
       "      <td>Şartlar08.30 - 18.30 arası mesai saatleri. Sad...</td>\n",
       "      <td>613</td>\n",
       "      <td>73</td>\n",
       "      <td>7.410959</td>\n",
       "      <td>121.8</td>\n",
       "      <td>0</td>\n",
       "      <td>şartlar0830 1830 arası mesai saatleri sadece p...</td>\n",
       "    </tr>\n",
       "  </tbody>\n",
       "</table>\n",
       "</div>"
      ],
      "text/plain": [
       "   JobRefNo               DigerPozisyon  \\\n",
       "0   3464108        Bilgisayar Mühendisi   \n",
       "1   3464068  Yazılım Geliştirme Elemanı   \n",
       "2   3464018            Grafik Tasarımcı   \n",
       "\n",
       "                                      Qualifications       Classification  \\\n",
       "0  <p>3464105346410534641053464105346410534641053...  Bilgi Teknolojileri   \n",
       "1  <p>sskjdkjsdksajl sksakjdlkajdladl dskjlksjlks...  Bilgi Teknolojileri   \n",
       "2  <p>Şartlar</p><p>08.30 - 18.30 arası mesai saa...  Bilgi Teknolojileri   \n",
       "\n",
       "                             Qualifications_HtmlFree  length  Word_count  \\\n",
       "0  3464105346410534641053464105346410534641053464...     126           1   \n",
       "1  sskjdkjsdksajl sksakjdlkajdladl dskjlksjlksajl...     111           5   \n",
       "2  Şartlar08.30 - 18.30 arası mesai saatleri. Sad...     613          73   \n",
       "\n",
       "   mean_word_length  mean_sent_length  categorical_label  \\\n",
       "0        126.000000             126.0                  0   \n",
       "1         21.400000             111.0                  0   \n",
       "2          7.410959             121.8                  0   \n",
       "\n",
       "                                               Clean  \n",
       "0  3464105346410534641053464105346410534641053464...  \n",
       "1  sskjdkjsdksajl sksakjdlkajdladl dskjlksjlksajl...  \n",
       "2  şartlar0830 1830 arası mesai saatleri sadece p...  "
      ]
     },
     "execution_count": 27,
     "metadata": {},
     "output_type": "execute_result"
    }
   ],
   "source": [
    "data['Clean'] = data['Qualifications_HtmlFree'].apply(tokenize)\n",
    "data.head(3)"
   ]
  },
  {
   "cell_type": "code",
   "execution_count": 28,
   "metadata": {},
   "outputs": [],
   "source": [
    "data.to_csv('../../Masaüstü/proje/cleanedJobs_IT (1).csv' , index=False)"
   ]
  },
  {
   "cell_type": "code",
   "execution_count": 29,
   "metadata": {},
   "outputs": [],
   "source": [
    "import pandas as pd\n",
    "from bs4 import BeautifulSoup\n",
    "from tqdm import tqdm\n",
    "tqdm.pandas()"
   ]
  },
  {
   "cell_type": "code",
   "execution_count": 30,
   "metadata": {},
   "outputs": [
    {
     "data": {
      "text/html": [
       "<div>\n",
       "<style scoped>\n",
       "    .dataframe tbody tr th:only-of-type {\n",
       "        vertical-align: middle;\n",
       "    }\n",
       "\n",
       "    .dataframe tbody tr th {\n",
       "        vertical-align: top;\n",
       "    }\n",
       "\n",
       "    .dataframe thead th {\n",
       "        text-align: right;\n",
       "    }\n",
       "</style>\n",
       "<table border=\"1\" class=\"dataframe\">\n",
       "  <thead>\n",
       "    <tr style=\"text-align: right;\">\n",
       "      <th></th>\n",
       "      <th>JobRefNo</th>\n",
       "      <th>DigerPozisyon</th>\n",
       "      <th>Qualifications</th>\n",
       "      <th>Classification</th>\n",
       "      <th>Qualifications_HtmlFree</th>\n",
       "      <th>length</th>\n",
       "      <th>Word_count</th>\n",
       "      <th>mean_word_length</th>\n",
       "      <th>mean_sent_length</th>\n",
       "      <th>categorical_label</th>\n",
       "      <th>Clean</th>\n",
       "    </tr>\n",
       "  </thead>\n",
       "  <tbody>\n",
       "    <tr>\n",
       "      <th>0</th>\n",
       "      <td>3464108</td>\n",
       "      <td>Bilgisayar Mühendisi</td>\n",
       "      <td>&lt;p&gt;3464105346410534641053464105346410534641053...</td>\n",
       "      <td>Bilgi Teknolojileri</td>\n",
       "      <td>3464105346410534641053464105346410534641053464...</td>\n",
       "      <td>126</td>\n",
       "      <td>1</td>\n",
       "      <td>126.000000</td>\n",
       "      <td>126.0</td>\n",
       "      <td>0</td>\n",
       "      <td>3464105346410534641053464105346410534641053464...</td>\n",
       "    </tr>\n",
       "    <tr>\n",
       "      <th>1</th>\n",
       "      <td>3464068</td>\n",
       "      <td>Yazılım Geliştirme Elemanı</td>\n",
       "      <td>&lt;p&gt;sskjdkjsdksajl sksakjdlkajdladl dskjlksjlks...</td>\n",
       "      <td>Bilgi Teknolojileri</td>\n",
       "      <td>sskjdkjsdksajl sksakjdlkajdladl dskjlksjlksajl...</td>\n",
       "      <td>111</td>\n",
       "      <td>5</td>\n",
       "      <td>21.400000</td>\n",
       "      <td>111.0</td>\n",
       "      <td>0</td>\n",
       "      <td>sskjdkjsdksajl sksakjdlkajdladl dskjlksjlksajl...</td>\n",
       "    </tr>\n",
       "    <tr>\n",
       "      <th>2</th>\n",
       "      <td>3464018</td>\n",
       "      <td>Grafik Tasarımcı</td>\n",
       "      <td>&lt;p&gt;Şartlar&lt;/p&gt;&lt;p&gt;08.30 - 18.30 arası mesai saa...</td>\n",
       "      <td>Bilgi Teknolojileri</td>\n",
       "      <td>Şartlar08.30 - 18.30 arası mesai saatleri. Sad...</td>\n",
       "      <td>613</td>\n",
       "      <td>73</td>\n",
       "      <td>7.410959</td>\n",
       "      <td>121.8</td>\n",
       "      <td>0</td>\n",
       "      <td>şartlar0830 1830 arası mesai saatleri sadece p...</td>\n",
       "    </tr>\n",
       "    <tr>\n",
       "      <th>3</th>\n",
       "      <td>3463995</td>\n",
       "      <td>Full Stack Developer</td>\n",
       "      <td>&lt;p&gt;Yeditek Yeni Dijital Teknolojiler A.Ş.&lt;/p&gt;&lt;...</td>\n",
       "      <td>Bilgi Teknolojileri</td>\n",
       "      <td>Yeditek Yeni Dijital Teknolojiler A.Ş.Yeditek,...</td>\n",
       "      <td>695</td>\n",
       "      <td>87</td>\n",
       "      <td>7.000000</td>\n",
       "      <td>347.0</td>\n",
       "      <td>0</td>\n",
       "      <td>yeditek yeni dijital teknolojiler aşyeditek en...</td>\n",
       "    </tr>\n",
       "    <tr>\n",
       "      <th>4</th>\n",
       "      <td>3463739</td>\n",
       "      <td>Multimedya Tasarım Uzmanı</td>\n",
       "      <td>&lt;p&gt;Türkiye'de eğitim teknolojileri alanının il...</td>\n",
       "      <td>Bilgi Teknolojileri</td>\n",
       "      <td>Türkiye'de eğitim teknolojileri alanının ilk v...</td>\n",
       "      <td>2382</td>\n",
       "      <td>287</td>\n",
       "      <td>7.292683</td>\n",
       "      <td>1190.0</td>\n",
       "      <td>0</td>\n",
       "      <td>türkiyede eğitim teknolojileri alanının ilk ön...</td>\n",
       "    </tr>\n",
       "  </tbody>\n",
       "</table>\n",
       "</div>"
      ],
      "text/plain": [
       "   JobRefNo               DigerPozisyon  \\\n",
       "0   3464108        Bilgisayar Mühendisi   \n",
       "1   3464068  Yazılım Geliştirme Elemanı   \n",
       "2   3464018            Grafik Tasarımcı   \n",
       "3   3463995        Full Stack Developer   \n",
       "4   3463739   Multimedya Tasarım Uzmanı   \n",
       "\n",
       "                                      Qualifications       Classification  \\\n",
       "0  <p>3464105346410534641053464105346410534641053...  Bilgi Teknolojileri   \n",
       "1  <p>sskjdkjsdksajl sksakjdlkajdladl dskjlksjlks...  Bilgi Teknolojileri   \n",
       "2  <p>Şartlar</p><p>08.30 - 18.30 arası mesai saa...  Bilgi Teknolojileri   \n",
       "3  <p>Yeditek Yeni Dijital Teknolojiler A.Ş.</p><...  Bilgi Teknolojileri   \n",
       "4  <p>Türkiye'de eğitim teknolojileri alanının il...  Bilgi Teknolojileri   \n",
       "\n",
       "                             Qualifications_HtmlFree  length  Word_count  \\\n",
       "0  3464105346410534641053464105346410534641053464...     126           1   \n",
       "1  sskjdkjsdksajl sksakjdlkajdladl dskjlksjlksajl...     111           5   \n",
       "2  Şartlar08.30 - 18.30 arası mesai saatleri. Sad...     613          73   \n",
       "3  Yeditek Yeni Dijital Teknolojiler A.Ş.Yeditek,...     695          87   \n",
       "4  Türkiye'de eğitim teknolojileri alanının ilk v...    2382         287   \n",
       "\n",
       "   mean_word_length  mean_sent_length  categorical_label  \\\n",
       "0        126.000000             126.0                  0   \n",
       "1         21.400000             111.0                  0   \n",
       "2          7.410959             121.8                  0   \n",
       "3          7.000000             347.0                  0   \n",
       "4          7.292683            1190.0                  0   \n",
       "\n",
       "                                               Clean  \n",
       "0  3464105346410534641053464105346410534641053464...  \n",
       "1  sskjdkjsdksajl sksakjdlkajdladl dskjlksjlksajl...  \n",
       "2  şartlar0830 1830 arası mesai saatleri sadece p...  \n",
       "3  yeditek yeni dijital teknolojiler aşyeditek en...  \n",
       "4  türkiyede eğitim teknolojileri alanının ilk ön...  "
      ]
     },
     "execution_count": 30,
     "metadata": {},
     "output_type": "execute_result"
    }
   ],
   "source": [
    "data = pd.read_csv('../../Masaüstü/proje/cleanedJobs_IT (1).csv')\n",
    "\n",
    "data.head(5)"
   ]
  },
  {
   "cell_type": "code",
   "execution_count": 31,
   "metadata": {},
   "outputs": [
    {
     "data": {
      "text/plain": [
       "'türkiyede eğitim teknolojileri alanının ilk öncü şirketi olan enocta hizmet verdiği kurumlarda çalışanların iş performansını artıran yolla kurumların iş sonuçlarına katkı sağlayan yeni nesil eğitim gelişim uygulamaları teknolojileri sunarbugünün iş dünyasında başarı etkin iş sonuçları sürekli öğrenen gelişen bireyler kurumlar mümkün enocta geliştirdiği öğrenme teknolojileri sunduğu içerikler müşterilerinin başarısını amaç edinen hizmet anlayışıyla türkiyenin değerli markaları çalışmakta birlikte çalıştığı kurumların başarısına katkı sağlamaktadır500e yakın müşterimize 2 milyondan fazla çalışanına eğitim gelişim yoluyla değer katarak yenilikçi ürün hizmetler geliştiren keyifli bir ekibin parçası olacak multimedya tasarım uzmanını arıyoruzgenel nitelikler tercihen üniversitelerin iletişim tasarımı görsel iletişim tasarımı sinema tv eğitim fakültesi bilgisayar öğretim teknolojileri eğitimi lisans programlarından mezun dijital içerik türleri üretim teknikleri standartları konusunda 2 yıllık deneyim sahibi effects programını iyi düzeyde bilen photoshop illustrator adobe premierprogramlarında bilgi sahibi articulate storyline rise kullanarak eğitim içeriği oluşturma konusunda deneyim sahibi vyond kullanarak eğitim tanıtım içeriği oluşturma konusunda deneyim sahibi kurgu ses görüntü renk düzenleme konularında güncel trendleri sosyal medya trendlerini takip eden tasarım gücü görsel analiz yeteneği kuvvetli tipografi renk kompozisyon bilgisine sahip alanında portfolyo sunabilecek detaylara önem veren değişime yeniliklere açık çözüm odaklı yaratıcı yeni fikirler geliştirebilen takım çalışmasına uyum sağlayabilecek ms office programlarını kullanabilen görev tanimi hazırla eğitsel senaryo görsel konsepte uygun türde video etkileşimli içerik üretiminin gerçekleştirilmesi içerik metinleri üzerinden tasarımının yapılarak video etkileşimli üretiminin gerçekleştirilmesi eeğitimlerin tanıtım tutundurma faaliyetlerinde kullanılacak içerik üretimlerinin yapılması uzaktan eğitim yetişkin eğitimi öğretim tasarımı alanındaki yeni teknolojileri değişen öğrenme alışkanlıklarının takip edilmesi iş çıktılarına uygulanması üretilen içeriklerin kontrollerinin takibinin yapılması'"
      ]
     },
     "execution_count": 31,
     "metadata": {},
     "output_type": "execute_result"
    }
   ],
   "source": [
    "jobTexts = data['Clean'].tolist()\n",
    "jobTexts[4]"
   ]
  },
  {
   "cell_type": "code",
   "execution_count": 32,
   "metadata": {},
   "outputs": [
    {
     "data": {
      "text/plain": [
       "'veri giriş elemanihakkimizda tezmaksan robot teknolojileri 1981 yılında kurulan türkiyenin lider avrupanın ikinci büyük markası olarak talaşlı imalat sektöründe cnc satış kiralama servis teknolojik danışmanlık fisman yazılım sektörel eğitim geniş kapsamlı faaliyetler yürüten tezmaksan makina tarafından 2009 yılında kuruldu 2 milyon euro yatırım sermayesi kurulan tezmaksan robot teknolojileri hadımköyde 3000 metrekarelik yeni binasında fabrikaları çağın ihtiyaçlarına uygun şekilde robot otomasyon yazılım çözümleriyle hizmet vermektedir sektöre yüksek performanslı projeler yazılımlar kazandırarak üretim sanayisinin güçlü oyuncuları olan fabrikaların otomasyon teknolojisine entegre olmasını sağlamayı amaçlamaktadır günümüz endüstriyel üretiminin gereksinimi olan otomasyon robotlu hat kurulumu robotlu otomasyon konularında anahtar teslim çözümler sunmaktadır tasarım üretimine başladığı marka model cnc dik işleme merkezleri cnc tornalar uyumlu yarım günden bir sürede kurulumuyla zaman tasarrufu sağlayan yerli üretim belgesine sahip cubebox blues rt cubebox blues dr cubebox soul cubebox visiondan oluşan 4 yeni modeli ihracata başlayarak 14 farklı ülkede bayilik anlaşmasını imzaladı cubebox modelleri dünyanın farklı noktalarında üretime değer katmaya başladı genel nitelikler iletişim becerileri kuvvetli kendini geliştirebilecek ekip çalışmasında uyumlu dikkatli güler yüzlü iş sorumluluğuna sahip bilişim teknolojilerine hâkim olan planlama organizasyon problem çözme yeteneğine sahip tercihen ifs benzer erp yazılım programına hâkim tercihen üretim imalat konusunda bilgili eposta trafiğini yönetebilecek dosya arşivleme sağlayabilecek ms office programlarını etkin bir şekilde kullanabilen istanbul avrupa yakasında ikamet eden tercihen myo üniversite mezunuiş tanimi iş emri belgelerini dijital ortama aktarmak saklamak güncel veri tabanında günlük işleri yapmak haftada 5 gün çalışma şeklinde eğitilmek üzere ekip arkadaşı aranmaktadır'"
      ]
     },
     "execution_count": 32,
     "metadata": {},
     "output_type": "execute_result"
    }
   ],
   "source": [
    "with open ('../proje/cleanedJobs_IT (1).txt', 'w') as f:\n",
    "    for line in jobTexts:\n",
    "        f.write(f\"{line}\\n\\n\")\n",
    "\n",
    "jobTexts[20]"
   ]
  },
  {
   "cell_type": "code",
   "execution_count": 33,
   "metadata": {},
   "outputs": [
    {
     "name": "stdout",
     "output_type": "stream",
     "text": [
      "Requirement already satisfied: transformers in c:\\users\\melik\\anaconda3\\lib\\site-packages (4.36.2)\n",
      "Requirement already satisfied: filelock in c:\\users\\melik\\anaconda3\\lib\\site-packages (from transformers) (3.9.0)\n",
      "Requirement already satisfied: huggingface-hub<1.0,>=0.19.3 in c:\\users\\melik\\anaconda3\\lib\\site-packages (from transformers) (0.20.2)\n",
      "Requirement already satisfied: numpy>=1.17 in c:\\users\\melik\\anaconda3\\lib\\site-packages (from transformers) (1.24.3)\n",
      "Requirement already satisfied: packaging>=20.0 in c:\\users\\melik\\anaconda3\\lib\\site-packages (from transformers) (23.1)\n",
      "Requirement already satisfied: pyyaml>=5.1 in c:\\users\\melik\\anaconda3\\lib\\site-packages (from transformers) (6.0)\n",
      "Requirement already satisfied: regex!=2019.12.17 in c:\\users\\melik\\anaconda3\\lib\\site-packages (from transformers) (2022.7.9)\n",
      "Requirement already satisfied: requests in c:\\users\\melik\\anaconda3\\lib\\site-packages (from transformers) (2.31.0)\n",
      "Requirement already satisfied: tokenizers<0.19,>=0.14 in c:\\users\\melik\\anaconda3\\lib\\site-packages (from transformers) (0.15.0)\n",
      "Requirement already satisfied: safetensors>=0.3.1 in c:\\users\\melik\\anaconda3\\lib\\site-packages (from transformers) (0.3.2)\n",
      "Requirement already satisfied: tqdm>=4.27 in c:\\users\\melik\\anaconda3\\lib\\site-packages (from transformers) (4.65.0)\n",
      "Requirement already satisfied: fsspec>=2023.5.0 in c:\\users\\melik\\anaconda3\\lib\\site-packages (from huggingface-hub<1.0,>=0.19.3->transformers) (2023.12.2)\n",
      "Requirement already satisfied: typing-extensions>=3.7.4.3 in c:\\users\\melik\\anaconda3\\lib\\site-packages (from huggingface-hub<1.0,>=0.19.3->transformers) (4.7.1)\n",
      "Requirement already satisfied: colorama in c:\\users\\melik\\anaconda3\\lib\\site-packages (from tqdm>=4.27->transformers) (0.4.6)\n",
      "Requirement already satisfied: charset-normalizer<4,>=2 in c:\\users\\melik\\anaconda3\\lib\\site-packages (from requests->transformers) (2.0.4)\n",
      "Requirement already satisfied: idna<4,>=2.5 in c:\\users\\melik\\anaconda3\\lib\\site-packages (from requests->transformers) (3.4)\n",
      "Requirement already satisfied: urllib3<3,>=1.21.1 in c:\\users\\melik\\anaconda3\\lib\\site-packages (from requests->transformers) (1.26.16)\n",
      "Requirement already satisfied: certifi>=2017.4.17 in c:\\users\\melik\\anaconda3\\lib\\site-packages (from requests->transformers) (2023.7.22)\n",
      "Note: you may need to restart the kernel to use updated packages.\n"
     ]
    },
    {
     "name": "stderr",
     "output_type": "stream",
     "text": [
      "WARNING: Retrying (Retry(total=4, connect=None, read=None, redirect=None, status=None)) after connection broken by 'NewConnectionError('<pip._vendor.urllib3.connection.HTTPSConnection object at 0x000001AB4AC7DBD0>: Failed to establish a new connection: [Errno 11001] getaddrinfo failed')': /simple/transformers/\n",
      "WARNING: Retrying (Retry(total=3, connect=None, read=None, redirect=None, status=None)) after connection broken by 'NewConnectionError('<pip._vendor.urllib3.connection.HTTPSConnection object at 0x000001AB4AC9BD10>: Failed to establish a new connection: [Errno 11001] getaddrinfo failed')': /simple/transformers/\n",
      "WARNING: Retrying (Retry(total=2, connect=None, read=None, redirect=None, status=None)) after connection broken by 'NewConnectionError('<pip._vendor.urllib3.connection.HTTPSConnection object at 0x000001AB4AC9BF90>: Failed to establish a new connection: [Errno 11001] getaddrinfo failed')': /simple/transformers/\n",
      "WARNING: Retrying (Retry(total=1, connect=None, read=None, redirect=None, status=None)) after connection broken by 'NewConnectionError('<pip._vendor.urllib3.connection.HTTPSConnection object at 0x000001AB4ACB3410>: Failed to establish a new connection: [Errno 11001] getaddrinfo failed')': /simple/transformers/\n",
      "WARNING: Retrying (Retry(total=0, connect=None, read=None, redirect=None, status=None)) after connection broken by 'NewConnectionError('<pip._vendor.urllib3.connection.HTTPSConnection object at 0x000001AB4ACB45D0>: Failed to establish a new connection: [Errno 11001] getaddrinfo failed')': /simple/transformers/\n"
     ]
    }
   ],
   "source": [
    "pip install --upgrade  transformers"
   ]
  },
  {
   "cell_type": "code",
   "execution_count": 34,
   "metadata": {},
   "outputs": [],
   "source": [
    "from transformers import GPT2Tokenizer, TextDataset, DataCollatorForLanguageModeling, GPT2LMHeadModel, pipeline, \\\n",
    "                         Trainer, TrainingArguments"
   ]
  },
  {
   "cell_type": "code",
   "execution_count": 35,
   "metadata": {},
   "outputs": [],
   "source": [
    "tokenizer= GPT2Tokenizer.from_pretrained('gpt2')\n",
    "\n",
    "tokenizer.pad_token = tokenizer.eos_token"
   ]
  },
  {
   "cell_type": "code",
   "execution_count": 36,
   "metadata": {},
   "outputs": [
    {
     "name": "stderr",
     "output_type": "stream",
     "text": [
      "c:\\Users\\melik\\anaconda3\\Lib\\site-packages\\transformers\\data\\datasets\\language_modeling.py:53: FutureWarning: This dataset will be removed from the library soon, preprocessing should be handled with the 🤗 Datasets library. You can have a look at this example script for pointers: https://github.com/huggingface/transformers/blob/main/examples/pytorch/language-modeling/run_mlm.py\n",
      "  warnings.warn(\n"
     ]
    }
   ],
   "source": [
    "pds_data = TextDataset(\n",
    "    tokenizer = tokenizer,\n",
    "    file_path= '../proje/cleanedJobs_IT (1).txt' ,\n",
    "    block_size=64\n",
    ")"
   ]
  },
  {
   "cell_type": "code",
   "execution_count": 37,
   "metadata": {},
   "outputs": [
    {
     "data": {
      "text/plain": [
       "(tensor([ 2682,  2414, 13348,  2682,  2414, 13348,  2682,  2414, 13348,  2682,\n",
       "          2414, 13348,  2682,  2414, 13348,  2682,  2414, 13348,  2682,  2414,\n",
       "         13348,  2682,  2414, 13348,  2682,  2414, 13348,  2682,  2414, 13348,\n",
       "          2682,  2414, 13348,  2682,  2414, 13348,  2682,  2414, 13348,  2682,\n",
       "          2414, 13348,  2682,  2414, 13348,  2682,  2414, 13348,  2682,  2414,\n",
       "         13348,  2682,  2414, 13348,   198,   198,   824, 42421, 34388,  8457,\n",
       "            67,   591,  1228,    75]),\n",
       " torch.Size([64]))"
      ]
     },
     "execution_count": 37,
     "metadata": {},
     "output_type": "execute_result"
    }
   ],
   "source": [
    "pds_data[0], pds_data[0].shape "
   ]
  },
  {
   "cell_type": "code",
   "execution_count": 38,
   "metadata": {},
   "outputs": [
    {
     "name": "stdout",
     "output_type": "stream",
     "text": [
      "346410534641053464105346410534641053464105346410534641053464105346410534641053464105346410534641053464105346410534641053464105\n",
      "\n",
      "sskjdkjsdksajl\n"
     ]
    }
   ],
   "source": [
    "print(tokenizer.decode(pds_data[0]))"
   ]
  },
  {
   "cell_type": "code",
   "execution_count": 39,
   "metadata": {},
   "outputs": [],
   "source": [
    "data_collator = DataCollatorForLanguageModeling(\n",
    "    tokenizer=tokenizer, mlm=False, )"
   ]
  },
  {
   "cell_type": "code",
   "execution_count": 40,
   "metadata": {},
   "outputs": [],
   "source": [
    "model = GPT2LMHeadModel.from_pretrained('gpt2') #gpt2 modelinin yükle\n",
    "\n",
    "pretrained_generator = pipeline(\n",
    "    'text-generation',\n",
    "        model=model,\n",
    "            tokenizer= 'gpt2',\n",
    "        \n",
    "    config= {'max_length':1000,\n",
    "             'do_sample': True,\n",
    "             'top_p': 0.5,\n",
    "             'temperature':0.2,\n",
    "             'top_k':10 })\n",
    "             \n",
    "               \n"
   ]
  },
  {
   "cell_type": "code",
   "execution_count": 41,
   "metadata": {},
   "outputs": [
    {
     "name": "stderr",
     "output_type": "stream",
     "text": [
      "Setting `pad_token_id` to `eos_token_id`:50256 for open-end generation.\n"
     ]
    },
    {
     "name": "stdout",
     "output_type": "stream",
     "text": [
      "----------\n",
      "Genel nitelikler. [3] https://www.reddit.com/r/The_Donald/comments/5h6oqp/donna_take_my_dog_after_he_hides_a\n",
      "----------\n",
      "Genel nitelikleri is a Belgian maker of rubber gloves and accessories, and is available worldwide.\n",
      "----------\n",
      "Genel nitelikleri, and the first paper to investigate its use as a therapeutic for epilepsy. They then reviewed the medical literature and concluded that the combination of nitric oxide and the drug might be useful in treatment of epileptic seizures.\n",
      "----------\n"
     ]
    }
   ],
   "source": [
    "print('----------')\n",
    "for generated_sequence in pretrained_generator('Genel nitelikler', num_return_sequences=3):\n",
    "    print(generated_sequence['generated_text'])\n",
    "    print('----------')"
   ]
  },
  {
   "cell_type": "code",
   "execution_count": 42,
   "metadata": {},
   "outputs": [
    {
     "name": "stderr",
     "output_type": "stream",
     "text": [
      "Setting `pad_token_id` to `eos_token_id`:50256 for open-end generation.\n"
     ]
    },
    {
     "name": "stdout",
     "output_type": "stream",
     "text": [
      "----------\n",
      "iş alımlarında genenel niteliklerin şartları irtaşlerin erikliklarıtlarında de kelepıylarızal eyhtı\n",
      "----------\n",
      "iş alımlarında genenel niteliklerin şartları izlak lupakur.ın ñnık veşi lamaarında öndilam\n",
      "----------\n",
      "iş alımlarında genenel niteliklerin şartları ıkirıy. Eşil mültençu yasıl hanık diziero:\n",
      "----------\n"
     ]
    }
   ],
   "source": [
    "print('----------')\n",
    "for generated_sequence in pretrained_generator('iş alımlarında genenel niteliklerin şartları ', num_return_sequences=3):\n",
    "    print(generated_sequence['generated_text'])\n",
    "    print('----------')"
   ]
  },
  {
   "cell_type": "code",
   "execution_count": 43,
   "metadata": {},
   "outputs": [],
   "source": [
    "import os\n",
    "os.environ[\"WANDB_DISABLED\"]=\"true\""
   ]
  },
  {
   "cell_type": "code",
   "execution_count": 44,
   "metadata": {},
   "outputs": [
    {
     "data": {
      "application/vnd.jupyter.widget-view+json": {
       "model_id": "d21965987d7047758c817881a8e1cf33",
       "version_major": 2,
       "version_minor": 0
      },
      "text/plain": [
       "  0%|          | 0/133 [00:00<?, ?it/s]"
      ]
     },
     "metadata": {},
     "output_type": "display_data"
    },
    {
     "data": {
      "text/plain": [
       "{'eval_loss': 5.818464279174805,\n",
       " 'eval_runtime': 899.4946,\n",
       " 'eval_samples_per_second': 4.708,\n",
       " 'eval_steps_per_second': 0.148}"
      ]
     },
     "execution_count": 44,
     "metadata": {},
     "output_type": "execute_result"
    }
   ],
   "source": [
    "from transformers import Trainer\n",
    "from accelerate import Accelerator\n",
    "\n",
    "training_args = TrainingArguments(\n",
    "    output_dir=\"../../Data/Weights/gpt2_pds\",\n",
    "    overwrite_output_dir=True, \n",
    "    num_train_epochs=3, \n",
    "    per_device_train_batch_size=32, \n",
    "    per_device_eval_batch_size=32,  \n",
    "    logging_steps=10,\n",
    "    load_best_model_at_end=True,\n",
    "    evaluation_strategy='epoch',\n",
    "    save_strategy='epoch',\n",
    "    report_to='none'\n",
    ")\n",
    "\n",
    "trainer = Trainer(\n",
    "    model=model,\n",
    "    args=training_args,\n",
    "    data_collator=data_collator,\n",
    "    train_dataset=pds_data.examples[:int(len(pds_data.examples)*.8)],\n",
    "    eval_dataset=pds_data.examples[int(len(pds_data.examples)*.8):]\n",
    ")\n",
    "\n",
    "trainer.evaluate()\n"
   ]
  },
  {
   "cell_type": "code",
   "execution_count": 45,
   "metadata": {},
   "outputs": [
    {
     "data": {
      "application/vnd.jupyter.widget-view+json": {
       "model_id": "823c8c83545d448cb59fedfc15f205ea",
       "version_major": 2,
       "version_minor": 0
      },
      "text/plain": [
       "  0%|          | 0/1590 [00:00<?, ?it/s]"
      ]
     },
     "metadata": {},
     "output_type": "display_data"
    },
    {
     "name": "stdout",
     "output_type": "stream",
     "text": [
      "{'loss': 5.5449, 'learning_rate': 4.968553459119497e-05, 'epoch': 0.02}\n",
      "{'loss': 4.9901, 'learning_rate': 4.937106918238994e-05, 'epoch': 0.04}\n",
      "{'loss': 4.5603, 'learning_rate': 4.9056603773584906e-05, 'epoch': 0.06}\n",
      "{'loss': 4.1977, 'learning_rate': 4.8742138364779875e-05, 'epoch': 0.08}\n",
      "{'loss': 4.0418, 'learning_rate': 4.842767295597484e-05, 'epoch': 0.09}\n",
      "{'loss': 3.8353, 'learning_rate': 4.811320754716982e-05, 'epoch': 0.11}\n",
      "{'loss': 3.6792, 'learning_rate': 4.7798742138364785e-05, 'epoch': 0.13}\n",
      "{'loss': 3.5433, 'learning_rate': 4.7484276729559753e-05, 'epoch': 0.15}\n",
      "{'loss': 3.5897, 'learning_rate': 4.716981132075472e-05, 'epoch': 0.17}\n",
      "{'loss': 3.5517, 'learning_rate': 4.685534591194969e-05, 'epoch': 0.19}\n",
      "{'loss': 3.4254, 'learning_rate': 4.654088050314466e-05, 'epoch': 0.21}\n",
      "{'loss': 3.4131, 'learning_rate': 4.6226415094339625e-05, 'epoch': 0.23}\n",
      "{'loss': 3.2313, 'learning_rate': 4.5911949685534594e-05, 'epoch': 0.25}\n",
      "{'loss': 3.3002, 'learning_rate': 4.559748427672956e-05, 'epoch': 0.26}\n",
      "{'loss': 3.2012, 'learning_rate': 4.528301886792453e-05, 'epoch': 0.28}\n",
      "{'loss': 3.2708, 'learning_rate': 4.49685534591195e-05, 'epoch': 0.3}\n",
      "{'loss': 3.2058, 'learning_rate': 4.4654088050314466e-05, 'epoch': 0.32}\n",
      "{'loss': 3.1976, 'learning_rate': 4.433962264150944e-05, 'epoch': 0.34}\n",
      "{'loss': 3.1299, 'learning_rate': 4.402515723270441e-05, 'epoch': 0.36}\n",
      "{'loss': 3.1638, 'learning_rate': 4.3710691823899376e-05, 'epoch': 0.38}\n",
      "{'loss': 2.9206, 'learning_rate': 4.3396226415094345e-05, 'epoch': 0.4}\n",
      "{'loss': 2.9982, 'learning_rate': 4.308176100628931e-05, 'epoch': 0.42}\n",
      "{'loss': 3.0829, 'learning_rate': 4.276729559748428e-05, 'epoch': 0.43}\n",
      "{'loss': 2.9767, 'learning_rate': 4.245283018867925e-05, 'epoch': 0.45}\n",
      "{'loss': 3.0021, 'learning_rate': 4.213836477987422e-05, 'epoch': 0.47}\n",
      "{'loss': 2.9818, 'learning_rate': 4.1823899371069185e-05, 'epoch': 0.49}\n",
      "{'loss': 2.961, 'learning_rate': 4.150943396226415e-05, 'epoch': 0.51}\n",
      "{'loss': 2.98, 'learning_rate': 4.119496855345912e-05, 'epoch': 0.53}\n",
      "{'loss': 3.016, 'learning_rate': 4.088050314465409e-05, 'epoch': 0.55}\n",
      "{'loss': 2.9342, 'learning_rate': 4.0566037735849064e-05, 'epoch': 0.57}\n",
      "{'loss': 2.836, 'learning_rate': 4.025157232704403e-05, 'epoch': 0.58}\n",
      "{'loss': 2.8802, 'learning_rate': 3.9937106918239e-05, 'epoch': 0.6}\n",
      "{'loss': 2.8128, 'learning_rate': 3.962264150943397e-05, 'epoch': 0.62}\n",
      "{'loss': 2.8198, 'learning_rate': 3.9308176100628936e-05, 'epoch': 0.64}\n",
      "{'loss': 2.7903, 'learning_rate': 3.8993710691823904e-05, 'epoch': 0.66}\n",
      "{'loss': 2.8577, 'learning_rate': 3.867924528301887e-05, 'epoch': 0.68}\n",
      "{'loss': 2.9949, 'learning_rate': 3.836477987421384e-05, 'epoch': 0.7}\n",
      "{'loss': 2.7261, 'learning_rate': 3.805031446540881e-05, 'epoch': 0.72}\n",
      "{'loss': 2.7743, 'learning_rate': 3.7735849056603776e-05, 'epoch': 0.74}\n",
      "{'loss': 2.8209, 'learning_rate': 3.7421383647798744e-05, 'epoch': 0.75}\n",
      "{'loss': 2.8388, 'learning_rate': 3.710691823899371e-05, 'epoch': 0.77}\n",
      "{'loss': 2.7745, 'learning_rate': 3.679245283018868e-05, 'epoch': 0.79}\n",
      "{'loss': 2.8581, 'learning_rate': 3.647798742138365e-05, 'epoch': 0.81}\n",
      "{'loss': 2.7788, 'learning_rate': 3.6163522012578616e-05, 'epoch': 0.83}\n",
      "{'loss': 2.6969, 'learning_rate': 3.5849056603773584e-05, 'epoch': 0.85}\n",
      "{'loss': 2.7209, 'learning_rate': 3.553459119496855e-05, 'epoch': 0.87}\n",
      "{'loss': 2.7286, 'learning_rate': 3.522012578616352e-05, 'epoch': 0.89}\n",
      "{'loss': 2.7819, 'learning_rate': 3.490566037735849e-05, 'epoch': 0.91}\n",
      "{'loss': 2.7343, 'learning_rate': 3.4591194968553456e-05, 'epoch': 0.92}\n",
      "{'loss': 2.8444, 'learning_rate': 3.4276729559748424e-05, 'epoch': 0.94}\n",
      "{'loss': 2.706, 'learning_rate': 3.39622641509434e-05, 'epoch': 0.96}\n",
      "{'loss': 2.7269, 'learning_rate': 3.364779874213837e-05, 'epoch': 0.98}\n",
      "{'loss': 2.5445, 'learning_rate': 3.3333333333333335e-05, 'epoch': 1.0}\n"
     ]
    },
    {
     "data": {
      "application/vnd.jupyter.widget-view+json": {
       "model_id": "48c0d498c70a4b599e823fd57ee81cd8",
       "version_major": 2,
       "version_minor": 0
      },
      "text/plain": [
       "  0%|          | 0/133 [00:00<?, ?it/s]"
      ]
     },
     "metadata": {},
     "output_type": "display_data"
    },
    {
     "name": "stderr",
     "output_type": "stream",
     "text": [
      "Checkpoint destination directory ../../Data/Weights/gpt2_pds\\checkpoint-530 already exists and is non-empty.Saving will proceed but saved results may be invalid.\n"
     ]
    },
    {
     "name": "stdout",
     "output_type": "stream",
     "text": [
      "{'eval_loss': 2.5653798580169678, 'eval_runtime': 1025.0618, 'eval_samples_per_second': 4.131, 'eval_steps_per_second': 0.13, 'epoch': 1.0}\n",
      "{'loss': 2.7534, 'learning_rate': 3.30188679245283e-05, 'epoch': 1.02}\n",
      "{'loss': 2.7324, 'learning_rate': 3.270440251572327e-05, 'epoch': 1.04}\n",
      "{'loss': 2.7356, 'learning_rate': 3.238993710691824e-05, 'epoch': 1.06}\n",
      "{'loss': 2.6168, 'learning_rate': 3.207547169811321e-05, 'epoch': 1.08}\n",
      "{'loss': 2.5834, 'learning_rate': 3.1761006289308175e-05, 'epoch': 1.09}\n",
      "{'loss': 2.5299, 'learning_rate': 3.144654088050314e-05, 'epoch': 1.11}\n",
      "{'loss': 2.6239, 'learning_rate': 3.113207547169811e-05, 'epoch': 1.13}\n",
      "{'loss': 2.5968, 'learning_rate': 3.081761006289308e-05, 'epoch': 1.15}\n",
      "{'loss': 2.5634, 'learning_rate': 3.050314465408805e-05, 'epoch': 1.17}\n",
      "{'loss': 2.5711, 'learning_rate': 3.018867924528302e-05, 'epoch': 1.19}\n",
      "{'loss': 2.647, 'learning_rate': 2.9874213836477987e-05, 'epoch': 1.21}\n",
      "{'loss': 2.4676, 'learning_rate': 2.9559748427672958e-05, 'epoch': 1.23}\n",
      "{'loss': 2.6182, 'learning_rate': 2.9245283018867926e-05, 'epoch': 1.25}\n",
      "{'loss': 2.6147, 'learning_rate': 2.8930817610062894e-05, 'epoch': 1.26}\n",
      "{'loss': 2.5493, 'learning_rate': 2.8616352201257862e-05, 'epoch': 1.28}\n",
      "{'loss': 2.4368, 'learning_rate': 2.830188679245283e-05, 'epoch': 1.3}\n",
      "{'loss': 2.6054, 'learning_rate': 2.7987421383647798e-05, 'epoch': 1.32}\n",
      "{'loss': 2.5315, 'learning_rate': 2.767295597484277e-05, 'epoch': 1.34}\n",
      "{'loss': 2.5764, 'learning_rate': 2.7358490566037738e-05, 'epoch': 1.36}\n",
      "{'loss': 2.5466, 'learning_rate': 2.7044025157232706e-05, 'epoch': 1.38}\n",
      "{'loss': 2.5665, 'learning_rate': 2.6729559748427674e-05, 'epoch': 1.4}\n",
      "{'loss': 2.5489, 'learning_rate': 2.641509433962264e-05, 'epoch': 1.42}\n",
      "{'loss': 2.457, 'learning_rate': 2.610062893081761e-05, 'epoch': 1.43}\n",
      "{'loss': 2.5311, 'learning_rate': 2.578616352201258e-05, 'epoch': 1.45}\n",
      "{'loss': 2.616, 'learning_rate': 2.547169811320755e-05, 'epoch': 1.47}\n",
      "{'loss': 2.4758, 'learning_rate': 2.5157232704402517e-05, 'epoch': 1.49}\n",
      "{'loss': 2.3808, 'learning_rate': 2.4842767295597485e-05, 'epoch': 1.51}\n",
      "{'loss': 2.514, 'learning_rate': 2.4528301886792453e-05, 'epoch': 1.53}\n",
      "{'loss': 2.5459, 'learning_rate': 2.421383647798742e-05, 'epoch': 1.55}\n",
      "{'loss': 2.4282, 'learning_rate': 2.3899371069182393e-05, 'epoch': 1.57}\n",
      "{'loss': 2.4264, 'learning_rate': 2.358490566037736e-05, 'epoch': 1.58}\n",
      "{'loss': 2.4936, 'learning_rate': 2.327044025157233e-05, 'epoch': 1.6}\n",
      "{'loss': 2.534, 'learning_rate': 2.2955974842767297e-05, 'epoch': 1.62}\n",
      "{'loss': 2.5077, 'learning_rate': 2.2641509433962265e-05, 'epoch': 1.64}\n",
      "{'loss': 2.419, 'learning_rate': 2.2327044025157233e-05, 'epoch': 1.66}\n",
      "{'loss': 2.4047, 'learning_rate': 2.2012578616352204e-05, 'epoch': 1.68}\n",
      "{'loss': 2.5379, 'learning_rate': 2.1698113207547172e-05, 'epoch': 1.7}\n",
      "{'loss': 2.3938, 'learning_rate': 2.138364779874214e-05, 'epoch': 1.72}\n",
      "{'loss': 2.4655, 'learning_rate': 2.106918238993711e-05, 'epoch': 1.74}\n",
      "{'loss': 2.4199, 'learning_rate': 2.0754716981132076e-05, 'epoch': 1.75}\n",
      "{'loss': 2.5162, 'learning_rate': 2.0440251572327044e-05, 'epoch': 1.77}\n",
      "{'loss': 2.5359, 'learning_rate': 2.0125786163522016e-05, 'epoch': 1.79}\n",
      "{'loss': 2.3238, 'learning_rate': 1.9811320754716984e-05, 'epoch': 1.81}\n",
      "{'loss': 2.5472, 'learning_rate': 1.9496855345911952e-05, 'epoch': 1.83}\n",
      "{'loss': 2.4251, 'learning_rate': 1.918238993710692e-05, 'epoch': 1.85}\n",
      "{'loss': 2.515, 'learning_rate': 1.8867924528301888e-05, 'epoch': 1.87}\n",
      "{'loss': 2.4447, 'learning_rate': 1.8553459119496856e-05, 'epoch': 1.89}\n",
      "{'loss': 2.3243, 'learning_rate': 1.8238993710691824e-05, 'epoch': 1.91}\n",
      "{'loss': 2.4831, 'learning_rate': 1.7924528301886792e-05, 'epoch': 1.92}\n",
      "{'loss': 2.4823, 'learning_rate': 1.761006289308176e-05, 'epoch': 1.94}\n",
      "{'loss': 2.5452, 'learning_rate': 1.7295597484276728e-05, 'epoch': 1.96}\n",
      "{'loss': 2.469, 'learning_rate': 1.69811320754717e-05, 'epoch': 1.98}\n",
      "{'loss': 2.4562, 'learning_rate': 1.6666666666666667e-05, 'epoch': 2.0}\n"
     ]
    },
    {
     "data": {
      "application/vnd.jupyter.widget-view+json": {
       "model_id": "898034faa2b346e5b11f5a5b5a548fa0",
       "version_major": 2,
       "version_minor": 0
      },
      "text/plain": [
       "  0%|          | 0/133 [00:00<?, ?it/s]"
      ]
     },
     "metadata": {},
     "output_type": "display_data"
    },
    {
     "name": "stderr",
     "output_type": "stream",
     "text": [
      "Checkpoint destination directory ../../Data/Weights/gpt2_pds\\checkpoint-1060 already exists and is non-empty.Saving will proceed but saved results may be invalid.\n"
     ]
    },
    {
     "name": "stdout",
     "output_type": "stream",
     "text": [
      "{'eval_loss': 2.374419689178467, 'eval_runtime': 5202.6636, 'eval_samples_per_second': 0.814, 'eval_steps_per_second': 0.026, 'epoch': 2.0}\n",
      "{'loss': 2.3317, 'learning_rate': 1.6352201257861635e-05, 'epoch': 2.02}\n",
      "{'loss': 2.4853, 'learning_rate': 1.6037735849056604e-05, 'epoch': 2.04}\n",
      "{'loss': 2.2857, 'learning_rate': 1.572327044025157e-05, 'epoch': 2.06}\n",
      "{'loss': 2.5313, 'learning_rate': 1.540880503144654e-05, 'epoch': 2.08}\n",
      "{'loss': 2.3764, 'learning_rate': 1.509433962264151e-05, 'epoch': 2.09}\n",
      "{'loss': 2.3441, 'learning_rate': 1.4779874213836479e-05, 'epoch': 2.11}\n",
      "{'loss': 2.4234, 'learning_rate': 1.4465408805031447e-05, 'epoch': 2.13}\n",
      "{'loss': 2.4278, 'learning_rate': 1.4150943396226415e-05, 'epoch': 2.15}\n",
      "{'loss': 2.4155, 'learning_rate': 1.3836477987421385e-05, 'epoch': 2.17}\n",
      "{'loss': 2.3831, 'learning_rate': 1.3522012578616353e-05, 'epoch': 2.19}\n",
      "{'loss': 2.5451, 'learning_rate': 1.320754716981132e-05, 'epoch': 2.21}\n",
      "{'loss': 2.3559, 'learning_rate': 1.289308176100629e-05, 'epoch': 2.23}\n",
      "{'loss': 2.4165, 'learning_rate': 1.2578616352201259e-05, 'epoch': 2.25}\n",
      "{'loss': 2.314, 'learning_rate': 1.2264150943396227e-05, 'epoch': 2.26}\n",
      "{'loss': 2.3982, 'learning_rate': 1.1949685534591196e-05, 'epoch': 2.28}\n",
      "{'loss': 2.3469, 'learning_rate': 1.1635220125786164e-05, 'epoch': 2.3}\n",
      "{'loss': 2.4277, 'learning_rate': 1.1320754716981132e-05, 'epoch': 2.32}\n",
      "{'loss': 2.3673, 'learning_rate': 1.1006289308176102e-05, 'epoch': 2.34}\n",
      "{'loss': 2.3713, 'learning_rate': 1.069182389937107e-05, 'epoch': 2.36}\n",
      "{'loss': 2.3969, 'learning_rate': 1.0377358490566038e-05, 'epoch': 2.38}\n",
      "{'loss': 2.428, 'learning_rate': 1.0062893081761008e-05, 'epoch': 2.4}\n",
      "{'loss': 2.3104, 'learning_rate': 9.748427672955976e-06, 'epoch': 2.42}\n",
      "{'loss': 2.3599, 'learning_rate': 9.433962264150944e-06, 'epoch': 2.43}\n",
      "{'loss': 2.2855, 'learning_rate': 9.119496855345912e-06, 'epoch': 2.45}\n",
      "{'loss': 2.3679, 'learning_rate': 8.80503144654088e-06, 'epoch': 2.47}\n",
      "{'loss': 2.3472, 'learning_rate': 8.49056603773585e-06, 'epoch': 2.49}\n",
      "{'loss': 2.3491, 'learning_rate': 8.176100628930818e-06, 'epoch': 2.51}\n",
      "{'loss': 2.4864, 'learning_rate': 7.861635220125786e-06, 'epoch': 2.53}\n",
      "{'loss': 2.371, 'learning_rate': 7.547169811320755e-06, 'epoch': 2.55}\n",
      "{'loss': 2.3358, 'learning_rate': 7.2327044025157235e-06, 'epoch': 2.57}\n",
      "{'loss': 2.4276, 'learning_rate': 6.918238993710692e-06, 'epoch': 2.58}\n",
      "{'loss': 2.4525, 'learning_rate': 6.60377358490566e-06, 'epoch': 2.6}\n",
      "{'loss': 2.4156, 'learning_rate': 6.289308176100629e-06, 'epoch': 2.62}\n",
      "{'loss': 2.304, 'learning_rate': 5.974842767295598e-06, 'epoch': 2.64}\n",
      "{'loss': 2.4452, 'learning_rate': 5.660377358490566e-06, 'epoch': 2.66}\n",
      "{'loss': 2.3516, 'learning_rate': 5.345911949685535e-06, 'epoch': 2.68}\n",
      "{'loss': 2.3354, 'learning_rate': 5.031446540880504e-06, 'epoch': 2.7}\n",
      "{'loss': 2.414, 'learning_rate': 4.716981132075472e-06, 'epoch': 2.72}\n",
      "{'loss': 2.4813, 'learning_rate': 4.40251572327044e-06, 'epoch': 2.74}\n",
      "{'loss': 2.3584, 'learning_rate': 4.088050314465409e-06, 'epoch': 2.75}\n",
      "{'loss': 2.4055, 'learning_rate': 3.7735849056603773e-06, 'epoch': 2.77}\n",
      "{'loss': 2.3087, 'learning_rate': 3.459119496855346e-06, 'epoch': 2.79}\n",
      "{'loss': 2.3239, 'learning_rate': 3.1446540880503146e-06, 'epoch': 2.81}\n",
      "{'loss': 2.3678, 'learning_rate': 2.830188679245283e-06, 'epoch': 2.83}\n",
      "{'loss': 2.27, 'learning_rate': 2.515723270440252e-06, 'epoch': 2.85}\n",
      "{'loss': 2.4281, 'learning_rate': 2.20125786163522e-06, 'epoch': 2.87}\n",
      "{'loss': 2.4053, 'learning_rate': 1.8867924528301887e-06, 'epoch': 2.89}\n",
      "{'loss': 2.3452, 'learning_rate': 1.5723270440251573e-06, 'epoch': 2.91}\n",
      "{'loss': 2.3026, 'learning_rate': 1.257861635220126e-06, 'epoch': 2.92}\n",
      "{'loss': 2.3027, 'learning_rate': 9.433962264150943e-07, 'epoch': 2.94}\n",
      "{'loss': 2.2825, 'learning_rate': 6.28930817610063e-07, 'epoch': 2.96}\n",
      "{'loss': 2.326, 'learning_rate': 3.144654088050315e-07, 'epoch': 2.98}\n",
      "{'loss': 2.4044, 'learning_rate': 0.0, 'epoch': 3.0}\n"
     ]
    },
    {
     "data": {
      "application/vnd.jupyter.widget-view+json": {
       "model_id": "3e69537f109e46dbae8cb675fba31fd7",
       "version_major": 2,
       "version_minor": 0
      },
      "text/plain": [
       "  0%|          | 0/133 [00:00<?, ?it/s]"
      ]
     },
     "metadata": {},
     "output_type": "display_data"
    },
    {
     "name": "stdout",
     "output_type": "stream",
     "text": [
      "{'eval_loss': 2.325981378555298, 'eval_runtime': 598.2747, 'eval_samples_per_second': 7.079, 'eval_steps_per_second': 0.222, 'epoch': 3.0}\n"
     ]
    },
    {
     "name": "stderr",
     "output_type": "stream",
     "text": [
      "There were missing keys in the checkpoint model loaded: ['lm_head.weight'].\n"
     ]
    },
    {
     "name": "stdout",
     "output_type": "stream",
     "text": [
      "{'train_runtime': 86309.8293, 'train_samples_per_second': 0.589, 'train_steps_per_second': 0.018, 'train_loss': 2.689641193173966, 'epoch': 3.0}\n"
     ]
    },
    {
     "data": {
      "text/plain": [
       "TrainOutput(global_step=1590, training_loss=2.689641193173966, metrics={'train_runtime': 86309.8293, 'train_samples_per_second': 0.589, 'train_steps_per_second': 0.018, 'train_loss': 2.689641193173966, 'epoch': 3.0})"
      ]
     },
     "execution_count": 45,
     "metadata": {},
     "output_type": "execute_result"
    }
   ],
   "source": [
    "trainer.train()"
   ]
  },
  {
   "cell_type": "code",
   "execution_count": 47,
   "metadata": {},
   "outputs": [
    {
     "data": {
      "application/vnd.jupyter.widget-view+json": {
       "model_id": "ef853d2df3ce4d88b712a595b11e5d1b",
       "version_major": 2,
       "version_minor": 0
      },
      "text/plain": [
       "  0%|          | 0/133 [00:00<?, ?it/s]"
      ]
     },
     "metadata": {},
     "output_type": "display_data"
    },
    {
     "data": {
      "text/plain": [
       "{'eval_loss': 2.325981378555298,\n",
       " 'eval_runtime': 940.2268,\n",
       " 'eval_samples_per_second': 4.504,\n",
       " 'eval_steps_per_second': 0.141,\n",
       " 'epoch': 3.0}"
      ]
     },
     "execution_count": 47,
     "metadata": {},
     "output_type": "execute_result"
    }
   ],
   "source": [
    "trainer.evaluate()  "
   ]
  },
  {
   "cell_type": "code",
   "execution_count": 48,
   "metadata": {},
   "outputs": [
    {
     "name": "stderr",
     "output_type": "stream",
     "text": [
      "Setting `pad_token_id` to `eos_token_id`:50256 for open-end generation.\n"
     ]
    },
    {
     "name": "stdout",
     "output_type": "stream",
     "text": [
      "----------\n",
      "Experienced in machine learning skills like python strong knowledge object oriented architecture experience data driven learning data manipulation similar experience solid object oriented concepts like datatrade architecture experience data integrity data mining c oop experience nodejs vb familiarity data mining solid knowledge data mining\n",
      "----------\n",
      "Experienced in machine learning skills like familiar ioc ms sql server konularında hakim olanproficiency cloud computing similar server hardware oracle applications similar experience linux plusexperience network management web services applications plusexperience sql server software\n",
      "----------\n",
      "Experienced in machine learning skills like fluent english good communication english ability work projects quickly working team environment comfortable basic english working environment english minimal risk workplace interactionspersonal preferences male candidates contact information available atjob descriptionlooking rolesemi work roleanalytics visualizations data\n",
      "----------\n"
     ]
    }
   ],
   "source": [
    "print('----------')\n",
    "for generated_sequence in pretrained_generator('', num_return_sequences=3):\n",
    "    print(generated_sequence['generated_text'])\n",
    "    print('----------')"
   ]
  },
  {
   "cell_type": "code",
   "execution_count": 49,
   "metadata": {},
   "outputs": [
    {
     "name": "stderr",
     "output_type": "stream",
     "text": [
      "Setting `pad_token_id` to `eos_token_id`:50256 for open-end generation.\n"
     ]
    },
    {
     "name": "stdout",
     "output_type": "stream",
     "text": [
      "----------\n",
      "Makine öğrenimi deneyimine sahipinin sağlanması kullanılan mimari sistemi konfigürasyonunu sağlamakkullanıcı\n",
      "----------\n",
      "Makine öğrenimi deneyimine sahipgrafik tasarım arkadaşı arayışımız bulunmaktadır\n",
      "\n",
      "unveiled software solutions\n",
      "----------\n",
      "Makine öğrenimi deneyimine sahip olmaktadır\n",
      "\n",
      "genel nitelikler iş tanimiürüniversitelerin endüstri mühendisl\n",
      "----------\n"
     ]
    }
   ],
   "source": [
    "print('----------')\n",
    "for generated_sequence in pretrained_generator('Makine öğrenimi deneyimine sahip', num_return_sequences=3):\n",
    "    print(generated_sequence['generated_text'])\n",
    "    print('----------')"
   ]
  }
 ],
 "metadata": {
  "kernelspec": {
   "display_name": "base",
   "language": "python",
   "name": "python3"
  },
  "language_info": {
   "codemirror_mode": {
    "name": "ipython",
    "version": 3
   },
   "file_extension": ".py",
   "mimetype": "text/x-python",
   "name": "python",
   "nbconvert_exporter": "python",
   "pygments_lexer": "ipython3",
   "version": "3.11.5"
  }
 },
 "nbformat": 4,
 "nbformat_minor": 2
}
